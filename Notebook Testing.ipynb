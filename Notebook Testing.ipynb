{
 "cells": [
  {
   "cell_type": "markdown",
   "metadata": {},
   "source": [
    "# Important Definitions"
   ]
  },
  {
   "cell_type": "markdown",
   "metadata": {},
   "source": [
    "### Players"
   ]
  },
  {
   "cell_type": "markdown",
   "metadata": {},
   "source": [
    "    Player 1\n",
    "    Player 2"
   ]
  },
  {
   "cell_type": "markdown",
   "metadata": {},
   "source": [
    "### Colors"
   ]
  },
  {
   "cell_type": "markdown",
   "metadata": {},
   "source": [
    "    red = 0\n",
    "    green = 1 \n",
    "    yellow = 2 \n",
    "    blue = 3\n",
    "    purple = 4 \n",
    "    black = 5"
   ]
  },
  {
   "cell_type": "code",
   "execution_count": 1,
   "metadata": {},
   "outputs": [],
   "source": [
    "import numpy as np\n",
    "import matplotlib.pyplot as plt\n",
    "from matplotlib import colors\n",
    "import random\n",
    "\n",
    "class Board:  \n",
    "    # Initialized a random board using np.random.randint and then calls fix_board to make sure there \n",
    "    # are no cells with the same color are already touching to match the filler game.\n",
    "    def __init__(self, size = (7,8)):\n",
    "        self.size = size\n",
    "        self.data = np.random.randint(0, high=5, size=self.size)\n",
    "        self.fix_board()\n",
    "        \n",
    "        self.player_1_color = self.data[self.size[0]-1,0]\n",
    "        self.player_2_color = self.data[0,self.size[1]-1]\n",
    "        \n",
    "        self.player_1_cells_captured = [(self.size[0]-1,0)]\n",
    "        self.player_2_cells_captured = [(0,self.size[1]-1)]\n",
    "        \n",
    "        self.player_1_score = 1\n",
    "        self.player_2_score = 1\n",
    "        \n",
    "        # For displaying the board (Defining: red = 0, green = 1, yellow = 2, blue = 3, purple = 4, black = 5)\n",
    "        self.cmap = colors.ListedColormap(['red', 'green', 'yellow', 'blue', 'purple', 'black'])\n",
    "        self.bounds = [0,1,2,3,4,5,6]\n",
    "        self.norm = colors.BoundaryNorm(self.bounds, self.cmap.N)\n",
    "      \n",
    "    \n",
    "    # Displays the board\n",
    "    def display_board(self):\n",
    "        fig, ax = plt.subplots()\n",
    "        ax.imshow(self.data, cmap=self.cmap, norm=self.norm)\n",
    "     \n",
    "    \n",
    "    # Retuns the current game score. Necessary for evaluating when the game has ended (when the two scores add\n",
    "    # up to the total number of celss for the given board size).\n",
    "    def get_score(self):\n",
    "        return (self.player_1_score, self.player_2_score)\n",
    "    \n",
    "    \n",
    "    # Returns the possible legal moves for the current board state.\n",
    "    # Necessary for MCTC algorithm.\n",
    "    def legal_moves(self):\n",
    "        return np.setdiff1d([0,1,2,3,4,5],[self.player_1_color, self.player_2_color])\n",
    "    \n",
    "    \n",
    "    # For finding which neighbors of a cell are within the bounds of the grid\n",
    "    # Takes in a list of tuples giving the coordinates of the neighbors\n",
    "    def valid_neighbors(self, neighbors):\n",
    "        valid_neighbors = []\n",
    "        for neighbor in neighbors:\n",
    "            if neighbor[0] >= 0 and neighbor[0] < self.size[0] and neighbor[1] >= 0 and neighbor[1] < self.size[1]:\n",
    "                valid_neighbors.append(neighbor)\n",
    "        return valid_neighbors\n",
    "    \n",
    "    \n",
    "    # Takes the random generated board and fixes it so that no no cells with the same color are \n",
    "    # already touching to match the filler game. \n",
    "    def fix_board(self):\n",
    "        # Fixing blobs of colors\n",
    "        for i in range(self.size[0]):\n",
    "            for j in range(self.size[1]):\n",
    "                neighbors = self.valid_neighbors([(i+1,j), (i-1,j), (i,j+1), (i,j-1)])\n",
    "                neighbor_colors = []\n",
    "                for neighbor in neighbors:\n",
    "                    neighbor_colors.append(self.data[neighbor[0], neighbor[1]])\n",
    "                if len(np.intersect1d([self.data[i,j]], neighbor_colors)) > 0:\n",
    "                    self.data[i,j] = random.choice(np.setdiff1d([0,1,2,3,4,5],neighbor_colors))\n",
    "        \n",
    "        # Fixing if starting colors of players are the same\n",
    "        if self.data[self.size[0]-1,0] == self.data[0,self.size[1]-1]:\n",
    "            self.data[0,self.size[1]-1] = random.choice(np.setdiff1d([0,1,2,3,4,5],[self.data[0,self.size[1]-1], \n",
    "                                            self.data[0,self.size[1]-2], self.data[1,self.size[1]-1]]))\n",
    "        \n",
    "        # Fixing to make sure a player can never start the game off with two neighbors of the same color\n",
    "        if self.data[self.size[0]-2,0] == self.data[self.size[0]-1, 1]:\n",
    "            cells_to_avoid = [(self.size[0]-3,0), (self.size[0]-1,0), (self.size[0]-2,1), (self.size[0]-1,1)]\n",
    "            colors_to_avoid = []\n",
    "            for cell in cells_to_avoid:\n",
    "                colors_to_avoid.append(self.data[cell[0], cell[1]])\n",
    "            self.data[self.size[0]-2,0] = random.choice(np.setdiff1d([0,1,2,3,4,5],colors_to_avoid))\n",
    "        if self.data[0, self.size[1]-2] == self.data[1, self.size[1]-1]:\n",
    "            cells_to_avoid = [(0,self.size[1]-3), (0,self.size[1]-1), (1,self.size[1]-2), (1,self.size[1]-1)]\n",
    "            colors_to_avoid = []\n",
    "            for cell in cells_to_avoid:\n",
    "                colors_to_avoid.append(self.data[cell[0], cell[1]])\n",
    "            self.data[0,self.size[1]-2] = random.choice(np.setdiff1d([0,1,2,3,4,5],colors_to_avoid))\n",
    "            \n",
    "             \n",
    "    # Updates the board based on the given player and the color value.\n",
    "    def update_board(self, player_number, color_value):\n",
    "        if player_number == 1:\n",
    "            if color_value == self.player_2_color:\n",
    "                raise Exception(\"Trying to choose the color of the other player\")\n",
    "            new_captures = []\n",
    "            \n",
    "            # Finding all neighboring cells with the given chosen color\n",
    "            for cell in self.player_1_cells_captured:\n",
    "                neighbors = self.valid_neighbors([(cell[0]+1,cell[1]), (cell[0]-1,cell[1]), \n",
    "                                                  (cell[0],cell[1]+1), (cell[0],cell[1]-1)])\n",
    "                for neighbor in neighbors:\n",
    "                    if self.data[neighbor[0],neighbor[1]] == color_value:\n",
    "                        self.data[neighbor[0],neighbor[1]] = color_value\n",
    "                        new_captures.append(neighbor)\n",
    "            \n",
    "            # Updating all current captured territory to have the new chosen color\n",
    "            for cell in self.player_1_cells_captured:\n",
    "                self.data[cell] = color_value\n",
    "            \n",
    "            # Updating metadeta\n",
    "            self.player_1_cells_captured = list(set().union(self.player_1_cells_captured,new_captures)) \n",
    "            self.player_1_score = len(self.player_1_cells_captured)\n",
    "            self.player_1_color = color_value\n",
    "        \n",
    "        elif player_number == 2:\n",
    "            if color_value == self.player_1_color:\n",
    "                raise Exception(\"Trying to choose the color of the other player\")\n",
    "            new_captures = []\n",
    "            \n",
    "            # Finding all neighboring cells with the given chosen color\n",
    "            for cell in self.player_2_cells_captured:\n",
    "                neighbors = self.valid_neighbors([(cell[0]+1,cell[1]), (cell[0]-1,cell[1]), \n",
    "                                                  (cell[0],cell[1]+1), (cell[0],cell[1]-1)])\n",
    "                for neighbor in neighbors:\n",
    "                    if self.data[neighbor[0],neighbor[1]] == color_value:\n",
    "                        self.data[neighbor[0],neighbor[1]] = color_value\n",
    "                        new_captures.append(neighbor)\n",
    "            \n",
    "            # Updating all current captured territory to have the new chosen color\n",
    "            for cell in self.player_2_cells_captured:\n",
    "                self.data[cell] = color_value\n",
    "            \n",
    "            # Updating metadeta\n",
    "            self.player_2_cells_captured = list(set().union(self.player_2_cells_captured,new_captures))\n",
    "            self.player_2_score = len(self.player_2_cells_captured)\n",
    "            self.player_2_color = color_value\n",
    "        \n",
    "        else:\n",
    "               raise Exception(\"Invalid player number\")\n",
    "                \n",
    "    \n",
    "    # Returns the greedy move based on maximizing the number of cells gained in the next turn\n",
    "    # for a given player. Note, it returns the maximum legal move (it can't choose the other \n",
    "    # players current color).\n",
    "    def greedy_move(self, player_number):\n",
    "        territory_neighbors = set()\n",
    "        num_colored_neighbors = np.zeros(6)        \n",
    "        \n",
    "        if player_number == 1:\n",
    "            # Finding all neighbors and adding them to the running total of num_colored_neighbors\n",
    "            for cell in self.player_1_cells_captured:\n",
    "                neighbors = set(self.valid_neighbors([(cell[0]+1,cell[1]), (cell[0]-1,cell[1]), \n",
    "                                                  (cell[0],cell[1]+1), (cell[0],cell[1]-1)])) \n",
    "                territory_neighbors = territory_neighbors.union(neighbors)\n",
    "            territory_neighbors = list(territory_neighbors - set(self.player_1_cells_captured))\n",
    "            for neighbor in territory_neighbors:\n",
    "                num_colored_neighbors[self.data[neighbor]] += 1            \n",
    "            \n",
    "            # Return the top color but checking to make sure we're not chossing the other player's color  \n",
    "            top_colors = np.argsort(num_colored_neighbors)\n",
    "            if top_colors[-1] == self.player_2_color:\n",
    "                return top_colors[-2]\n",
    "            else:\n",
    "                return top_colors[-1]      \n",
    "        \n",
    "        elif player_number == 2:         \n",
    "            # Finding all neighbors and adding them to the running total of num_colored_neighbors\n",
    "            for cell in self.player_2_cells_captured:\n",
    "                neighbors = set(self.valid_neighbors([(cell[0]+1,cell[1]), (cell[0]-1,cell[1]), \n",
    "                                                  (cell[0],cell[1]+1), (cell[0],cell[1]-1)])) \n",
    "                territory_neighbors = territory_neighbors.union(neighbors) \n",
    "            territory_neighbors = list(territory_neighbors - set(self.player_2_cells_captured))\n",
    "            for neighbor in territory_neighbors:\n",
    "                num_colored_neighbors[self.data[neighbor]] += 1       \n",
    "            \n",
    "            # Return the top color but checking to make sure we're not chossing the other player's color  \n",
    "            top_colors = np.argsort(num_colored_neighbors)\n",
    "            if top_colors[-1] == self.player_1_color:\n",
    "                return top_colors[-2]\n",
    "            else:\n",
    "                return top_colors[-1]        \n",
    "        \n",
    "        else:\n",
    "               raise Exception(\"Invalid player number\")"
   ]
  },
  {
   "cell_type": "markdown",
   "metadata": {},
   "source": [
    "    red = 0\n",
    "    green = 1 \n",
    "    yellow = 2 \n",
    "    blue = 3\n",
    "    purple = 4 \n",
    "    black = 5"
   ]
  },
  {
   "cell_type": "code",
   "execution_count": 2,
   "metadata": {},
   "outputs": [
    {
     "data": {
      "image/png": "[encoded data removed]",
      "text/plain": [
       "<Figure size 432x288 with 1 Axes>"
      ]
     },
     "metadata": {
      "needs_background": "light"
     },
     "output_type": "display_data"
    }
   ],
   "source": [
    "test = Board()\n",
    "test.display_board()"
   ]
  },
  {
   "cell_type": "code",
   "execution_count": 3,
   "metadata": {},
   "outputs": [
    {
     "data": {
      "image/png": "[encoded data removed]",
      "text/plain": [
       "<Figure size 432x288 with 1 Axes>"
      ]
     },
     "metadata": {
      "needs_background": "light"
     },
     "output_type": "display_data"
    }
   ],
   "source": [
    "test.update_board(1,test.greedy_move(1))\n",
    "test.display_board()"
   ]
  },
  {
   "cell_type": "code",
   "execution_count": 4,
   "metadata": {},
   "outputs": [
    {
     "data": {
      "image/png": "[encoded data removed]",
      "text/plain": [
       "<Figure size 432x288 with 1 Axes>"
      ]
     },
     "metadata": {
      "needs_background": "light"
     },
     "output_type": "display_data"
    }
   ],
   "source": [
    "test.update_board(2,test.greedy_move(2))\n",
    "test.display_board()"
   ]
  },
  {
   "cell_type": "code",
   "execution_count": 5,
   "metadata": {},
   "outputs": [
    {
     "data": {
      "image/png": "[encoded data removed]",
      "text/plain": [
       "<Figure size 432x288 with 1 Axes>"
      ]
     },
     "metadata": {
      "needs_background": "light"
     },
     "output_type": "display_data"
    }
   ],
   "source": [
    "test.update_board(1,test.greedy_move(1))\n",
    "test.display_board()"
   ]
  },
  {
   "cell_type": "code",
   "execution_count": 6,
   "metadata": {
    "scrolled": true
   },
   "outputs": [
    {
     "data": {
      "image/png": "[encoded data removed]",
      "text/plain": [
       "<Figure size 432x288 with 1 Axes>"
      ]
     },
     "metadata": {
      "needs_background": "light"
     },
     "output_type": "display_data"
    }
   ],
   "source": [
    "test.update_board(2,test.greedy_move(2))\n",
    "test.display_board()"
   ]
  },
  {
   "cell_type": "code",
   "execution_count": 7,
   "metadata": {},
   "outputs": [
    {
     "data": {
      "image/png": "[encoded data removed]",
      "text/plain": [
       "<Figure size 432x288 with 1 Axes>"
      ]
     },
     "metadata": {
      "needs_background": "light"
     },
     "output_type": "display_data"
    }
   ],
   "source": [
    "test.update_board(1,test.greedy_move(1))\n",
    "test.display_board()"
   ]
  },
  {
   "cell_type": "code",
   "execution_count": 8,
   "metadata": {},
   "outputs": [
    {
     "data": {
      "image/png": "[encoded data removed]",
      "text/plain": [
       "<Figure size 432x288 with 1 Axes>"
      ]
     },
     "metadata": {
      "needs_background": "light"
     },
     "output_type": "display_data"
    }
   ],
   "source": [
    "test.update_board(2,test.greedy_move(2))\n",
    "test.display_board()"
   ]
  },
  {
   "cell_type": "code",
   "execution_count": 9,
   "metadata": {},
   "outputs": [
    {
     "data": {
      "image/png": "[encoded data removed]",
      "text/plain": [
       "<Figure size 432x288 with 1 Axes>"
      ]
     },
     "metadata": {
      "needs_background": "light"
     },
     "output_type": "display_data"
    }
   ],
   "source": [
    "test.update_board(1,test.greedy_move(1))\n",
    "test.display_board()"
   ]
  },
  {
   "cell_type": "code",
   "execution_count": 10,
   "metadata": {},
   "outputs": [
    {
     "data": {
      "image/png": "[encoded data removed]",
      "text/plain": [
       "<Figure size 432x288 with 1 Axes>"
      ]
     },
     "metadata": {
      "needs_background": "light"
     },
     "output_type": "display_data"
    }
   ],
   "source": [
    "test.update_board(2,test.greedy_move(2))\n",
    "test.display_board()"
   ]
  },
  {
   "cell_type": "code",
   "execution_count": 11,
   "metadata": {},
   "outputs": [
    {
     "data": {
      "image/png": "[encoded data removed]",
      "text/plain": [
       "<Figure size 432x288 with 1 Axes>"
      ]
     },
     "metadata": {
      "needs_background": "light"
     },
     "output_type": "display_data"
    }
   ],
   "source": [
    "test.update_board(1,test.greedy_move(1))\n",
    "test.display_board()"
   ]
  },
  {
   "cell_type": "code",
   "execution_count": 12,
   "metadata": {},
   "outputs": [
    {
     "data": {
      "image/png": "[encoded data removed]",
      "text/plain": [
       "<Figure size 432x288 with 1 Axes>"
      ]
     },
     "metadata": {
      "needs_background": "light"
     },
     "output_type": "display_data"
    }
   ],
   "source": [
    "test.update_board(2,test.greedy_move(2))\n",
    "test.display_board()"
   ]
  },
  {
   "cell_type": "code",
   "execution_count": 13,
   "metadata": {},
   "outputs": [
    {
     "data": {
      "image/png": "[encoded data removed]",
      "text/plain": [
       "<Figure size 432x288 with 1 Axes>"
      ]
     },
     "metadata": {
      "needs_background": "light"
     },
     "output_type": "display_data"
    }
   ],
   "source": [
    "test.update_board(1,test.greedy_move(1))\n",
    "test.display_board()"
   ]
  },
  {
   "cell_type": "code",
   "execution_count": 14,
   "metadata": {},
   "outputs": [
    {
     "data": {
      "image/png": "[encoded data removed]",
      "text/plain": [
       "<Figure size 432x288 with 1 Axes>"
      ]
     },
     "metadata": {
      "needs_background": "light"
     },
     "output_type": "display_data"
    }
   ],
   "source": [
    "test.update_board(2,test.greedy_move(2))\n",
    "test.display_board()"
   ]
  },
  {
   "cell_type": "code",
   "execution_count": 15,
   "metadata": {},
   "outputs": [
    {
     "data": {
      "image/png": "[encoded data removed]",
      "text/plain": [
       "<Figure size 432x288 with 1 Axes>"
      ]
     },
     "metadata": {
      "needs_background": "light"
     },
     "output_type": "display_data"
    }
   ],
   "source": [
    "test.update_board(1,test.greedy_move(1))\n",
    "test.display_board()"
   ]
  },
  {
   "cell_type": "code",
   "execution_count": 16,
   "metadata": {},
   "outputs": [
    {
     "data": {
      "image/png": "[encoded data removed]",
      "text/plain": [
       "<Figure size 432x288 with 1 Axes>"
      ]
     },
     "metadata": {
      "needs_background": "light"
     },
     "output_type": "display_data"
    }
   ],
   "source": [
    "test.update_board(2,test.greedy_move(2))\n",
    "test.display_board()"
   ]
  },
  {
   "cell_type": "code",
   "execution_count": 17,
   "metadata": {},
   "outputs": [
    {
     "data": {
      "image/png": "[encoded data removed]",
      "text/plain": [
       "<Figure size 432x288 with 1 Axes>"
      ]
     },
     "metadata": {
      "needs_background": "light"
     },
     "output_type": "display_data"
    }
   ],
   "source": [
    "test.update_board(1,test.greedy_move(1))\n",
    "test.display_board()"
   ]
  },
  {
   "cell_type": "code",
   "execution_count": 18,
   "metadata": {},
   "outputs": [
    {
     "data": {
      "image/png": "[encoded data removed]",
      "text/plain": [
       "<Figure size 432x288 with 1 Axes>"
      ]
     },
     "metadata": {
      "needs_background": "light"
     },
     "output_type": "display_data"
    }
   ],
   "source": [
    "test.update_board(2,test.greedy_move(2))\n",
    "test.display_board()"
   ]
  },
  {
   "cell_type": "code",
   "execution_count": 19,
   "metadata": {},
   "outputs": [
    {
     "data": {
      "image/png": "[encoded data removed]",
      "text/plain": [
       "<Figure size 432x288 with 1 Axes>"
      ]
     },
     "metadata": {
      "needs_background": "light"
     },
     "output_type": "display_data"
    }
   ],
   "source": [
    "test.update_board(1,test.greedy_move(1))\n",
    "test.display_board()"
   ]
  },
  {
   "cell_type": "code",
   "execution_count": 20,
   "metadata": {},
   "outputs": [
    {
     "data": {
      "image/png": "[encoded data removed]",
      "text/plain": [
       "<Figure size 432x288 with 1 Axes>"
      ]
     },
     "metadata": {
      "needs_background": "light"
     },
     "output_type": "display_data"
    }
   ],
   "source": [
    "test.update_board(2,test.greedy_move(2))\n",
    "test.display_board()"
   ]
  },
  {
   "cell_type": "code",
   "execution_count": 21,
   "metadata": {},
   "outputs": [
    {
     "data": {
      "image/png": "[encoded data removed]",
      "text/plain": [
       "<Figure size 432x288 with 1 Axes>"
      ]
     },
     "metadata": {
      "needs_background": "light"
     },
     "output_type": "display_data"
    }
   ],
   "source": [
    "test.update_board(1,test.greedy_move(1))\n",
    "test.display_board()"
   ]
  },
  {
   "cell_type": "code",
   "execution_count": 22,
   "metadata": {},
   "outputs": [
    {
     "data": {
      "image/png": "[encoded data removed]",
      "text/plain": [
       "<Figure size 432x288 with 1 Axes>"
      ]
     },
     "metadata": {
      "needs_background": "light"
     },
     "output_type": "display_data"
    }
   ],
   "source": [
    "test.update_board(2,test.greedy_move(2))\n",
    "test.display_board()"
   ]
  },
  {
   "cell_type": "code",
   "execution_count": 23,
   "metadata": {},
   "outputs": [
    {
     "data": {
      "image/png": "[encoded data removed]",
      "text/plain": [
       "<Figure size 432x288 with 1 Axes>"
      ]
     },
     "metadata": {
      "needs_background": "light"
     },
     "output_type": "display_data"
    }
   ],
   "source": [
    "test.update_board(1,test.greedy_move(1))\n",
    "test.display_board()"
   ]
  },
  {
   "cell_type": "code",
   "execution_count": 24,
   "metadata": {},
   "outputs": [
    {
     "data": {
      "image/png": "[encoded data removed]",
      "text/plain": [
       "<Figure size 432x288 with 1 Axes>"
      ]
     },
     "metadata": {
      "needs_background": "light"
     },
     "output_type": "display_data"
    }
   ],
   "source": [
    "test.update_board(2,test.greedy_move(2))\n",
    "test.display_board()"
   ]
  },
  {
   "cell_type": "code",
   "execution_count": 25,
   "metadata": {},
   "outputs": [
    {
     "data": {
      "image/png": "[encoded data removed]",
      "text/plain": [
       "<Figure size 432x288 with 1 Axes>"
      ]
     },
     "metadata": {
      "needs_background": "light"
     },
     "output_type": "display_data"
    }
   ],
   "source": [
    "test.update_board(1,test.greedy_move(1))\n",
    "test.display_board()"
   ]
  },
  {
   "cell_type": "code",
   "execution_count": 26,
   "metadata": {},
   "outputs": [
    {
     "data": {
      "image/png": "[encoded data removed]",
      "text/plain": [
       "<Figure size 432x288 with 1 Axes>"
      ]
     },
     "metadata": {
      "needs_background": "light"
     },
     "output_type": "display_data"
    }
   ],
   "source": [
    "test.update_board(2,test.greedy_move(2))\n",
    "test.display_board()"
   ]
  },
  {
   "cell_type": "code",
   "execution_count": 27,
   "metadata": {},
   "outputs": [
    {
     "data": {
      "image/png": "[encoded data removed]",
      "text/plain": [
       "<Figure size 432x288 with 1 Axes>"
      ]
     },
     "metadata": {
      "needs_background": "light"
     },
     "output_type": "display_data"
    }
   ],
   "source": [
    "test.update_board(1,test.greedy_move(1))\n",
    "test.display_board()"
   ]
  },
  {
   "cell_type": "code",
   "execution_count": 28,
   "metadata": {},
   "outputs": [
    {
     "data": {
      "image/png": "[encoded data removed]",
      "text/plain": [
       "<Figure size 432x288 with 1 Axes>"
      ]
     },
     "metadata": {
      "needs_background": "light"
     },
     "output_type": "display_data"
    }
   ],
   "source": [
    "test.update_board(2,test.greedy_move(2))\n",
    "test.display_board()"
   ]
  },
  {
   "cell_type": "code",
   "execution_count": 29,
   "metadata": {},
   "outputs": [
    {
     "data": {
      "image/png": "[encoded data removed]",
      "text/plain": [
       "<Figure size 432x288 with 1 Axes>"
      ]
     },
     "metadata": {
      "needs_background": "light"
     },
     "output_type": "display_data"
    }
   ],
   "source": [
    "test.update_board(1,test.greedy_move(1))\n",
    "test.display_board()"
   ]
  },
  {
   "cell_type": "code",
   "execution_count": 30,
   "metadata": {},
   "outputs": [
    {
     "data": {
      "text/plain": [
       "(30, 26)"
      ]
     },
     "execution_count": 30,
     "metadata": {},
     "output_type": "execute_result"
    }
   ],
   "source": [
    "test.get_score()"
   ]
  },
  {
   "cell_type": "code",
   "execution_count": null,
   "metadata": {},
   "outputs": [],
   "source": []
  }
 ],
 "metadata": {
  "kernelspec": {
   "display_name": "Python 3",
   "language": "python",
   "name": "python3"
  },
  "language_info": {
   "codemirror_mode": {
    "name": "ipython",
    "version": 3
   },
   "file_extension": ".py",
   "mimetype": "text/x-python",
   "name": "python",
   "nbconvert_exporter": "python",
   "pygments_lexer": "ipython3",
   "version": "3.7.7"
  }
 },
 "nbformat": 4,
 "nbformat_minor": 4
}
