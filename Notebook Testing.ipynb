{
 "cells": [
  {
   "cell_type": "markdown",
   "metadata": {},
   "source": [
    "# Important Definitions"
   ]
  },
  {
   "cell_type": "markdown",
   "metadata": {},
   "source": [
    "### Players"
   ]
  },
  {
   "cell_type": "markdown",
   "metadata": {},
   "source": [
    "    Player 1\n",
    "    Player 2"
   ]
  },
  {
   "cell_type": "markdown",
   "metadata": {},
   "source": [
    "### Colors"
   ]
  },
  {
   "cell_type": "markdown",
   "metadata": {},
   "source": [
    "    red = 0\n",
    "    green = 1 \n",
    "    yellow = 2 \n",
    "    blue = 3\n",
    "    purple = 4 \n",
    "    black = 5"
   ]
  },
  {
   "cell_type": "markdown",
   "metadata": {},
   "source": [
    "# Running Tests"
   ]
  },
  {
   "cell_type": "code",
   "execution_count": null,
   "metadata": {},
   "outputs": [],
   "source": [
    "from MCTS import MCTS\n",
    "from Board import Board\n",
    "import numpy as np\n",
    "from time import time\n",
    "from multiprocessing import Process"
   ]
  },
  {
   "cell_type": "code",
   "execution_count": null,
   "metadata": {},
   "outputs": [],
   "source": [
    "def test_AI_helper(size, AI_move_first, num_iterations, exploration_parameter, \n",
    "            intelligence_parameter, dumb_move_depth):\n",
    "    # Initializing a random board of the given size\n",
    "    board = Board(size=size)\n",
    "\n",
    "    # Playing out the game\n",
    "    while sum(board.get_score()) < size[0]*size[1]:\n",
    "        if AI_move_first:\n",
    "            MCTS_ = MCTS(board, 1, exploration_parameter = exploration_parameter, \n",
    "                         intelligence_parameter = intelligence_parameter)\n",
    "            board.update_board(1, MCTS_.select_move(num_iterations = num_iterations))\n",
    "            board.update_board(2, board.best_move_depth(2, dumb_move_depth))\n",
    "        else:\n",
    "            board.update_board(1, board.best_move_depth(1, dumb_move_depth))\n",
    "            MCTS_ = MCTS(board, 2, exploration_parameter = exploration_parameter, \n",
    "                         intelligence_parameter = intelligence_parameter)\n",
    "            board.update_board(2, MCTS_.select_move(num_iterations = num_iterations))\n",
    "    \n",
    "    return board.get_score()"
   ]
  },
  {
   "cell_type": "code",
   "execution_count": null,
   "metadata": {},
   "outputs": [],
   "source": [
    "def test_AI(AI_mover, num_iters, exploration_parameter, intelligence, dumb_depth):\n",
    "    num_games = 100\n",
    "    scores = np.zeros((2, num_games))\n",
    "\n",
    "    start_time = time()\n",
    "    for i in range(num_games):\n",
    "        score = test_AI_helper((7,8), AI_mover, num_iters, exploration_parameter, intelligence, dumb_depth)\n",
    "        scores[0, i] = score[0]\n",
    "        scores[1, i] = score[1]                        \n",
    "    \n",
    "    if AI_mover:\n",
    "        print(\"-------------------------------------------------------------------------\")  \n",
    "        print(f\"With the AI going first, {num_iters} number of iterations,\" + \n",
    "              f\" and dumb_move_depth of {dumb_depth}\")\n",
    "        print(f\"The total time was {time() - start_time} seconds.\")\n",
    "        \n",
    "        win_percentage = sum(scores[0, :] > scores[1, :])\n",
    "        loss_percentage = sum(scores[0, :] < scores[1, :])\n",
    "        tie_percentage = sum(scores[0, :] == scores[1, :])\n",
    "        avg_AI_score = np.mean(scores[0,:])\n",
    "        avg_dumb_score = np.mean(scores[1,:])\n",
    "        \n",
    "        print(f\"The AI win percentage was {win_percentage}%, the AI loss percentage was {loss_percentage}%\" +\n",
    "          f\", and the tie percentage was {tie_percentage}%.\")\n",
    "        print(f\"The AI average score was {avg_AI_score} and the dumb average score was {avg_dumb_score}\")\n",
    "    \n",
    "    else:\n",
    "        print(\"-------------------------------------------------------------------------\") \n",
    "        print(f\"With the AI going second, {num_iters} number of iterations,\" + \n",
    "              f\" and dumb_move_depth of {dumb_depth}\")\n",
    "        print(f\"The total time was {time() - start_time} seconds.\")\n",
    "\n",
    "        win_percentage = sum(scores[1, :] > scores[0, :])\n",
    "        loss_percentage = sum(scores[1, :] < scores[0, :])\n",
    "        tie_percentage = sum(scores[1, :] == scores[0, :])\n",
    "        avg_AI_score = np.mean(scores[1,:])\n",
    "        avg_dumb_score = np.mean(scores[0,:])\n",
    "        \n",
    "        print(f\"The AI win percentage was {win_percentage}%, the AI loss percentage was {loss_percentage}%\" +\n",
    "          f\", and the tie percentage was {tie_percentage}%.\")\n",
    "        print(f\"The AI average score was {avg_AI_score} and the dumb average score was {avg_dumb_score}\")"
   ]
  },
  {
   "cell_type": "code",
   "execution_count": null,
   "metadata": {},
   "outputs": [],
   "source": [
    "# Testing a crazy number of Configurations\n",
    "num_iterations = [50, 100, 500, 1000, 2000]\n",
    "move_first = [True, False]\n",
    "Exploration_Paramters = [5]\n",
    "Intelligence_Parameters = [0.5]\n",
    "dumb_move_depth = [1, 3]\n",
    "\n",
    "jobs = []\n",
    "for num_iters in num_iterations:\n",
    "    for AI_mover in move_first:\n",
    "        for exploration_parameter in Exploration_Paramters:\n",
    "            for intelligence in Intelligence_Parameters:\n",
    "                for dumb_depth in dumb_move_depth:\n",
    "                    job = Process(target=test_AI, args=(AI_mover, num_iters, \n",
    "                                                             exploration_parameter, intelligence, dumb_depth))\n",
    "                    jobs.append(job)\n",
    "                    job.start()\n",
    "                    \n",
    "for job in jobs: \n",
    "    job.join()"
   ]
  },
  {
   "cell_type": "markdown",
   "metadata": {},
   "source": [
    "Actually ran this code on a compute cluser with a 32 core CPU"
   ]
  },
  {
   "cell_type": "markdown",
   "metadata": {},
   "source": [
    "# Actual Game Test"
   ]
  },
  {
   "cell_type": "code",
   "execution_count": 1,
   "metadata": {},
   "outputs": [],
   "source": [
    "from MCTS import MCTS\n",
    "from Board import Board\n",
    "import numpy as np"
   ]
  },
  {
   "cell_type": "code",
   "execution_count": 59,
   "metadata": {},
   "outputs": [],
   "source": [
    "# Data from an actual iMessage Filler game\n",
    "data = np.array([[1,3,0,3,0,1,3,0],[3,4,3,2,4,3,1,2],[5,1,2,1,0,2,3,0],[1,5,1,4,3,4,1,4],\n",
    "                [2,4,2,5,0,1,4,5],[5,1,3,0,2,5,0,2],[3,4,5,2,4,0,3,0]])\n",
    "\n",
    "intelligence_parameter = 0.5\n",
    "exploration_parameter = 5\n",
    "num_terations = 1000"
   ]
  },
  {
   "cell_type": "code",
   "execution_count": 60,
   "metadata": {
    "scrolled": false
   },
   "outputs": [
    {
     "data": {
      "image/png": "[encoded data removed]",
      "text/plain": [
       "<Figure size 432x288 with 1 Axes>"
      ]
     },
     "metadata": {
      "needs_background": "light"
     },
     "output_type": "display_data"
    }
   ],
   "source": [
    "test = Board(data=data)\n",
    "test.display_board()"
   ]
  },
  {
   "cell_type": "code",
   "execution_count": 61,
   "metadata": {},
   "outputs": [
    {
     "data": {
      "image/png": "[encoded data removed]",
      "text/plain": [
       "<Figure size 432x288 with 1 Axes>"
      ]
     },
     "metadata": {
      "needs_background": "light"
     },
     "output_type": "display_data"
    }
   ],
   "source": [
    "# Updating player 2 first becuase iMessage has the oppenent always\n",
    "# in the upper right even if they go first\n",
    "test.update_board(2,2)\n",
    "test.display_board()"
   ]
  },
  {
   "cell_type": "markdown",
   "metadata": {},
   "source": [
    "Note: The win percentage and average score in the early game are misleading because the AI is intentially trying a lot of paths that are not good moves. Thus the win percentage and average score for these very bad paths will be very low in the early game but will get better as the game progresses if the AI thinks it's getting a better chance of winning."
   ]
  },
  {
   "cell_type": "code",
   "execution_count": 62,
   "metadata": {},
   "outputs": [
    {
     "name": "stdout",
     "output_type": "stream",
     "text": [
      "red has win percentage 0.18762088974854932 with an average score of 6.166344294003869\n",
      "green has win percentage 0.19672131147540983 with an average score of 6.362477231329693\n",
      "purple has win percentage 0.31547260686333534 with an average score of 10.418422636965682\n",
      "black has win percentage 0.29052466718872355 with an average score of 9.668754894283472\n",
      "Wall time: 6.5 s\n"
     ]
    },
    {
     "data": {
      "image/png": "[encoded data removed]",
      "text/plain": [
       "<Figure size 432x288 with 1 Axes>"
      ]
     },
     "metadata": {
      "needs_background": "light"
     },
     "output_type": "display_data"
    }
   ],
   "source": [
    "%%time\n",
    "tester = MCTS(test, 1, exploration_parameter = exploration_parameter, intelligence_parameter = intelligence_parameter)\n",
    "test.update_board(1, tester.select_move(num_iterations = num_terations, verbose = True))\n",
    "test.display_board()"
   ]
  },
  {
   "cell_type": "code",
   "execution_count": 63,
   "metadata": {},
   "outputs": [
    {
     "data": {
      "image/png": "[encoded data removed]",
      "text/plain": [
       "<Figure size 432x288 with 1 Axes>"
      ]
     },
     "metadata": {
      "needs_background": "light"
     },
     "output_type": "display_data"
    }
   ],
   "source": [
    "test.update_board(2,1)\n",
    "test.display_board()"
   ]
  },
  {
   "cell_type": "code",
   "execution_count": 64,
   "metadata": {},
   "outputs": [
    {
     "name": "stdout",
     "output_type": "stream",
     "text": [
      "red has win percentage 0.15267175572519084 with an average score of 4.954198473282442\n",
      "yellow has win percentage 0.1839323467230444 with an average score of 5.92600422832981\n",
      "blue has win percentage 0.24279835390946503 with an average score of 7.9245541838134415\n",
      "black has win percentage 0.3561643835616438 with an average score of 11.686591946865946\n",
      "Wall time: 7.42 s\n"
     ]
    },
    {
     "data": {
      "image/png": "[encoded data removed]",
      "text/plain": [
       "<Figure size 432x288 with 1 Axes>"
      ]
     },
     "metadata": {
      "needs_background": "light"
     },
     "output_type": "display_data"
    }
   ],
   "source": [
    "%%time\n",
    "tester = MCTS(test, 1, exploration_parameter = exploration_parameter, intelligence_parameter = intelligence_parameter)\n",
    "test.update_board(1, tester.select_move(num_iterations = num_terations, verbose = True))\n",
    "test.display_board()"
   ]
  },
  {
   "cell_type": "code",
   "execution_count": 65,
   "metadata": {},
   "outputs": [
    {
     "data": {
      "image/png": "[encoded data removed]",
      "text/plain": [
       "<Figure size 432x288 with 1 Axes>"
      ]
     },
     "metadata": {
      "needs_background": "light"
     },
     "output_type": "display_data"
    }
   ],
   "source": [
    "test.update_board(2,3)\n",
    "test.display_board()"
   ]
  },
  {
   "cell_type": "code",
   "execution_count": 66,
   "metadata": {},
   "outputs": [
    {
     "name": "stdout",
     "output_type": "stream",
     "text": [
      "red has win percentage 0.11597374179431072 with an average score of 3.702407002188184\n",
      "green has win percentage 0.16744186046511628 with an average score of 5.330232558139537\n",
      "yellow has win percentage 0.29820359281437125 with an average score of 9.496606786427169\n",
      "purple has win percentage 0.09319899244332494 with an average score of 3.0000000000000004\n",
      "Wall time: 7.95 s\n"
     ]
    },
    {
     "data": {
      "image/png": "[encoded data removed]",
      "text/plain": [
       "<Figure size 432x288 with 1 Axes>"
      ]
     },
     "metadata": {
      "needs_background": "light"
     },
     "output_type": "display_data"
    }
   ],
   "source": [
    "%%time\n",
    "tester = MCTS(test, 1, exploration_parameter = exploration_parameter, intelligence_parameter = intelligence_parameter)\n",
    "test.update_board(1, tester.select_move(num_iterations = num_terations, verbose = True))\n",
    "test.display_board()"
   ]
  },
  {
   "cell_type": "code",
   "execution_count": 67,
   "metadata": {},
   "outputs": [
    {
     "data": {
      "image/png": "[encoded data removed]",
      "text/plain": [
       "<Figure size 432x288 with 1 Axes>"
      ]
     },
     "metadata": {
      "needs_background": "light"
     },
     "output_type": "display_data"
    }
   ],
   "source": [
    "test.update_board(2,1)\n",
    "test.display_board()"
   ]
  },
  {
   "cell_type": "code",
   "execution_count": 68,
   "metadata": {},
   "outputs": [
    {
     "name": "stdout",
     "output_type": "stream",
     "text": [
      "red has win percentage 0.17233560090702948 with an average score of 5.383219954648525\n",
      "blue has win percentage 0.12759643916913946 with an average score of 3.991097922848663\n",
      "purple has win percentage 0.36935655883398505 with an average score of 11.597582651973012\n",
      "black has win percentage 0.162227602905569 with an average score of 5.055690072639227\n",
      "Wall time: 7.8 s\n"
     ]
    },
    {
     "data": {
      "image/png": "[encoded data removed]",
      "text/plain": [
       "<Figure size 432x288 with 1 Axes>"
      ]
     },
     "metadata": {
      "needs_background": "light"
     },
     "output_type": "display_data"
    }
   ],
   "source": [
    "%%time\n",
    "tester = MCTS(test, 1, exploration_parameter = exploration_parameter, intelligence_parameter = intelligence_parameter)\n",
    "test.update_board(1, tester.select_move(num_iterations = num_terations, verbose = True))\n",
    "test.display_board()"
   ]
  },
  {
   "cell_type": "code",
   "execution_count": 69,
   "metadata": {},
   "outputs": [
    {
     "data": {
      "image/png": "[encoded data removed]",
      "text/plain": [
       "<Figure size 432x288 with 1 Axes>"
      ]
     },
     "metadata": {
      "needs_background": "light"
     },
     "output_type": "display_data"
    }
   ],
   "source": [
    "test.update_board(2,2)\n",
    "test.display_board()"
   ]
  },
  {
   "cell_type": "code",
   "execution_count": 70,
   "metadata": {},
   "outputs": [
    {
     "name": "stdout",
     "output_type": "stream",
     "text": [
      "red has win percentage 0.4834897462634689 with an average score of 15.333333333333337\n",
      "green has win percentage 0.25440806045340053 with an average score of 8.035264483627211\n",
      "blue has win percentage 0.22822822822822822 with an average score of 7.171171171171173\n",
      "black has win percentage 0.2594458438287154 with an average score of 8.005037783375315\n",
      "Wall time: 6.66 s\n"
     ]
    },
    {
     "data": {
      "image/png": "[encoded data removed]",
      "text/plain": [
       "<Figure size 432x288 with 1 Axes>"
      ]
     },
     "metadata": {
      "needs_background": "light"
     },
     "output_type": "display_data"
    }
   ],
   "source": [
    "%%time\n",
    "tester = MCTS(test, 1, exploration_parameter = exploration_parameter, intelligence_parameter = intelligence_parameter)\n",
    "test.update_board(1, tester.select_move(num_iterations = num_terations, verbose = True))\n",
    "test.display_board()"
   ]
  },
  {
   "cell_type": "code",
   "execution_count": 71,
   "metadata": {},
   "outputs": [
    {
     "data": {
      "image/png": "[encoded data removed]",
      "text/plain": [
       "<Figure size 432x288 with 1 Axes>"
      ]
     },
     "metadata": {
      "needs_background": "light"
     },
     "output_type": "display_data"
    }
   ],
   "source": [
    "test.update_board(2,4)\n",
    "test.display_board()"
   ]
  },
  {
   "cell_type": "code",
   "execution_count": 72,
   "metadata": {},
   "outputs": [
    {
     "name": "stdout",
     "output_type": "stream",
     "text": [
      "green has win percentage 0.215311004784689 with an average score of 6.425837320574161\n",
      "yellow has win percentage 0.2048780487804878 with an average score of 6.2390243902439\n",
      "blue has win percentage 0.21052631578947367 with an average score of 6.483253588516744\n",
      "black has win percentage 0.5669920141969832 with an average score of 17.687962141378254\n",
      "Wall time: 5.03 s\n"
     ]
    },
    {
     "data": {
      "image/png": "[encoded data removed]",
      "text/plain": [
       "<Figure size 432x288 with 1 Axes>"
      ]
     },
     "metadata": {
      "needs_background": "light"
     },
     "output_type": "display_data"
    }
   ],
   "source": [
    "%%time\n",
    "tester = MCTS(test, 1, exploration_parameter = exploration_parameter, intelligence_parameter = intelligence_parameter)\n",
    "test.update_board(1, tester.select_move(num_iterations = num_terations, verbose = True))\n",
    "test.display_board()"
   ]
  },
  {
   "cell_type": "code",
   "execution_count": 73,
   "metadata": {},
   "outputs": [
    {
     "data": {
      "image/png": "[encoded data removed]",
      "text/plain": [
       "<Figure size 432x288 with 1 Axes>"
      ]
     },
     "metadata": {
      "needs_background": "light"
     },
     "output_type": "display_data"
    }
   ],
   "source": [
    "test.update_board(2,0)\n",
    "test.display_board()"
   ]
  },
  {
   "cell_type": "code",
   "execution_count": 74,
   "metadata": {},
   "outputs": [
    {
     "name": "stdout",
     "output_type": "stream",
     "text": [
      "green has win percentage 0.645072152287381 with an average score of 19.987411728584483\n",
      "yellow has win percentage 0.16778523489932887 with an average score of 5.073825503355705\n",
      "blue has win percentage 0.30855018587360594 with an average score of 9.52044609665428\n",
      "purple has win percentage 0.3465045592705167 with an average score of 10.483282674772045\n",
      "Wall time: 3.38 s\n"
     ]
    },
    {
     "data": {
      "image/png": "[encoded data removed]",
      "text/plain": [
       "<Figure size 432x288 with 1 Axes>"
      ]
     },
     "metadata": {
      "needs_background": "light"
     },
     "output_type": "display_data"
    }
   ],
   "source": [
    "%%time\n",
    "tester = MCTS(test, 1, exploration_parameter = exploration_parameter, intelligence_parameter = intelligence_parameter)\n",
    "test.update_board(1, tester.select_move(num_iterations = num_terations, verbose = True))\n",
    "test.display_board()"
   ]
  },
  {
   "cell_type": "code",
   "execution_count": 75,
   "metadata": {},
   "outputs": [
    {
     "data": {
      "image/png": "[encoded data removed]",
      "text/plain": [
       "<Figure size 432x288 with 1 Axes>"
      ]
     },
     "metadata": {
      "needs_background": "light"
     },
     "output_type": "display_data"
    }
   ],
   "source": [
    "test.update_board(2,3)\n",
    "test.display_board()"
   ]
  },
  {
   "cell_type": "code",
   "execution_count": 77,
   "metadata": {},
   "outputs": [
    {
     "name": "stdout",
     "output_type": "stream",
     "text": [
      "red has win percentage 0.35658914728682173 with an average score of 10.488372093023251\n",
      "yellow has win percentage 0.3609022556390977 with an average score of 10.6766917293233\n",
      "purple has win percentage 0.8713545925320251 with an average score of 25.740528754428162\n",
      "black has win percentage 0.136986301369863 with an average score of 4.0\n",
      "Wall time: 2.58 s\n"
     ]
    },
    {
     "data": {
      "image/png": "[encoded data removed]",
      "text/plain": [
       "<Figure size 432x288 with 1 Axes>"
      ]
     },
     "metadata": {
      "needs_background": "light"
     },
     "output_type": "display_data"
    }
   ],
   "source": [
    "%%time\n",
    "tester = MCTS(test, 1, exploration_parameter = exploration_parameter, intelligence_parameter = intelligence_parameter)\n",
    "test.update_board(1, tester.select_move(num_iterations = num_terations, verbose = True))\n",
    "test.display_board()"
   ]
  },
  {
   "cell_type": "code",
   "execution_count": 78,
   "metadata": {},
   "outputs": [
    {
     "data": {
      "image/png": "[encoded data removed]",
      "text/plain": [
       "<Figure size 432x288 with 1 Axes>"
      ]
     },
     "metadata": {
      "needs_background": "light"
     },
     "output_type": "display_data"
    }
   ],
   "source": [
    "test.update_board(2,0)\n",
    "test.display_board()"
   ]
  },
  {
   "cell_type": "code",
   "execution_count": 79,
   "metadata": {},
   "outputs": [
    {
     "name": "stdout",
     "output_type": "stream",
     "text": [
      "green has win percentage 0.8016 with an average score of 23.3679999999999\n",
      "yellow has win percentage 0.2597402597402597 with an average score of 7.623376623376624\n",
      "blue has win percentage 0.9551500154655119 with an average score of 28.104546860500147\n",
      "black has win percentage 0.21739130434782608 with an average score of 6.333333333333335\n",
      "Wall time: 2.13 s\n"
     ]
    },
    {
     "data": {
      "image/png": "[encoded data removed]",
      "text/plain": [
       "<Figure size 432x288 with 1 Axes>"
      ]
     },
     "metadata": {
      "needs_background": "light"
     },
     "output_type": "display_data"
    }
   ],
   "source": [
    "%%time\n",
    "tester = MCTS(test, 1, exploration_parameter = exploration_parameter, intelligence_parameter = intelligence_parameter)\n",
    "test.update_board(1, tester.select_move(num_iterations = num_terations, verbose = True))\n",
    "test.display_board()"
   ]
  },
  {
   "cell_type": "code",
   "execution_count": 80,
   "metadata": {},
   "outputs": [
    {
     "data": {
      "image/png": "[encoded data removed]",
      "text/plain": [
       "<Figure size 432x288 with 1 Axes>"
      ]
     },
     "metadata": {
      "needs_background": "light"
     },
     "output_type": "display_data"
    }
   ],
   "source": [
    "test.update_board(2,2)\n",
    "test.display_board()"
   ]
  },
  {
   "cell_type": "code",
   "execution_count": 81,
   "metadata": {},
   "outputs": [
    {
     "name": "stdout",
     "output_type": "stream",
     "text": [
      "red has win percentage 0.273972602739726 with an average score of 7.945205479452056\n",
      "green has win percentage 0.9997346776333245 with an average score of 28.992305651365232\n",
      "purple has win percentage 0.32941176470588235 with an average score of 9.552941176470586\n",
      "black has win percentage 0.2987012987012987 with an average score of 8.662337662337661\n",
      "Wall time: 1.9 s\n"
     ]
    },
    {
     "data": {
      "image/png": "[encoded data removed]",
      "text/plain": [
       "<Figure size 432x288 with 1 Axes>"
      ]
     },
     "metadata": {
      "needs_background": "light"
     },
     "output_type": "display_data"
    }
   ],
   "source": [
    "%%time\n",
    "tester = MCTS(test, 1, exploration_parameter = exploration_parameter, intelligence_parameter = intelligence_parameter)\n",
    "test.update_board(1, tester.select_move(num_iterations = num_terations, verbose = True))\n",
    "test.display_board()"
   ]
  },
  {
   "cell_type": "code",
   "execution_count": 82,
   "metadata": {},
   "outputs": [
    {
     "data": {
      "image/png": "[encoded data removed]",
      "text/plain": [
       "<Figure size 432x288 with 1 Axes>"
      ]
     },
     "metadata": {
      "needs_background": "light"
     },
     "output_type": "display_data"
    }
   ],
   "source": [
    "test.update_board(2,5)\n",
    "test.display_board()"
   ]
  },
  {
   "cell_type": "code",
   "execution_count": 83,
   "metadata": {},
   "outputs": [
    {
     "name": "stdout",
     "output_type": "stream",
     "text": [
      "red has win percentage 0.999000999000999 with an average score of 28.97102897102955\n",
      "yellow has win percentage 0.999000999000999 with an average score of 28.97102897102955\n",
      "blue has win percentage 0.999000999000999 with an average score of 28.97102897102955\n",
      "purple has win percentage 0.999000999000999 with an average score of 28.97102897102955\n",
      "Wall time: 1.76 s\n"
     ]
    },
    {
     "data": {
      "image/png": "[encoded data removed]",
      "text/plain": [
       "<Figure size 432x288 with 1 Axes>"
      ]
     },
     "metadata": {
      "needs_background": "light"
     },
     "output_type": "display_data"
    }
   ],
   "source": [
    "%%time\n",
    "tester = MCTS(test, 1, exploration_parameter = exploration_parameter, intelligence_parameter = intelligence_parameter)\n",
    "test.update_board(1, tester.select_move(num_iterations = num_terations, verbose = True))\n",
    "test.display_board()"
   ]
  },
  {
   "cell_type": "code",
   "execution_count": 84,
   "metadata": {},
   "outputs": [
    {
     "data": {
      "image/png": "[encoded data removed]",
      "text/plain": [
       "<Figure size 432x288 with 1 Axes>"
      ]
     },
     "metadata": {
      "needs_background": "light"
     },
     "output_type": "display_data"
    }
   ],
   "source": [
    "test.update_board(2,0)\n",
    "test.display_board()"
   ]
  },
  {
   "cell_type": "code",
   "execution_count": 85,
   "metadata": {},
   "outputs": [
    {
     "name": "stdout",
     "output_type": "stream",
     "text": [
      "green has win percentage 0.999000999000999 with an average score of 28.97102897102955\n",
      "blue has win percentage 0.999000999000999 with an average score of 28.97102897102955\n",
      "purple has win percentage 0.999000999000999 with an average score of 28.97102897102955\n",
      "black has win percentage 0.999000999000999 with an average score of 28.97102897102955\n",
      "Wall time: 1.44 s\n"
     ]
    },
    {
     "data": {
      "image/png": "[encoded data removed]",
      "text/plain": [
       "<Figure size 432x288 with 1 Axes>"
      ]
     },
     "metadata": {
      "needs_background": "light"
     },
     "output_type": "display_data"
    }
   ],
   "source": [
    "%%time\n",
    "tester = MCTS(test, 1, exploration_parameter = exploration_parameter, intelligence_parameter = intelligence_parameter)\n",
    "test.update_board(1, tester.select_move(num_iterations = num_terations, verbose = True))\n",
    "test.display_board()"
   ]
  },
  {
   "cell_type": "code",
   "execution_count": 87,
   "metadata": {},
   "outputs": [
    {
     "name": "stdout",
     "output_type": "stream",
     "text": [
      "The final AI score was 29 and the final human player scores was 27\n"
     ]
    }
   ],
   "source": [
    "print(f\"The final AI score was {test.get_score()[0]} and the final human player scores was {test.get_score()[1]}\")"
   ]
  },
  {
   "cell_type": "code",
   "execution_count": null,
   "metadata": {},
   "outputs": [],
   "source": []
  }
 ],
 "metadata": {
  "kernelspec": {
   "display_name": "Python 3",
   "language": "python",
   "name": "python3"
  },
  "language_info": {
   "codemirror_mode": {
    "name": "ipython",
    "version": 3
   },
   "file_extension": ".py",
   "mimetype": "text/x-python",
   "name": "python",
   "nbconvert_exporter": "python",
   "pygments_lexer": "ipython3",
   "version": "3.7.7"
  }
 },
 "nbformat": 4,
 "nbformat_minor": 4
}
