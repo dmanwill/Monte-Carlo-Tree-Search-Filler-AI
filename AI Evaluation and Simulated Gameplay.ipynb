{
 "cells": [
  {
   "cell_type": "markdown",
   "metadata": {},
   "source": [
    "# Important Definitions"
   ]
  },
  {
   "cell_type": "markdown",
   "metadata": {},
   "source": [
    "### Players"
   ]
  },
  {
   "cell_type": "markdown",
   "metadata": {},
   "source": [
    "    Player 1\n",
    "    Player 2"
   ]
  },
  {
   "cell_type": "markdown",
   "metadata": {},
   "source": [
    "### Colors"
   ]
  },
  {
   "cell_type": "markdown",
   "metadata": {},
   "source": [
    "    red = 0\n",
    "    green = 1 \n",
    "    yellow = 2 \n",
    "    blue = 3\n",
    "    purple = 4 \n",
    "    black = 5"
   ]
  },
  {
   "cell_type": "markdown",
   "metadata": {},
   "source": [
    "# Running Tests"
   ]
  },
  {
   "cell_type": "code",
   "execution_count": 1,
   "metadata": {},
   "outputs": [],
   "source": [
    "from MCTS import MCTS\n",
    "from Board import Board\n",
    "import numpy as np\n",
    "from time import time\n",
    "from multiprocessing import Process"
   ]
  },
  {
   "cell_type": "code",
   "execution_count": 2,
   "metadata": {},
   "outputs": [],
   "source": [
    "def test_AI_helper(size, AI_move_first, num_iterations, exploration_parameter, \n",
    "            intelligence_parameter, dumb_move_depth):\n",
    "    # Initializing a random board of the given size\n",
    "    board = Board(size=size)\n",
    "\n",
    "    # Playing out the game\n",
    "    while sum(board.get_score()) < size[0]*size[1]:\n",
    "        if AI_move_first:\n",
    "            MCTS_ = MCTS(board, 1, exploration_parameter = exploration_parameter, \n",
    "                         intelligence_parameter = intelligence_parameter)\n",
    "            board.update_board(1, MCTS_.select_move(num_iterations = num_iterations))\n",
    "            board.update_board(2, board.best_move_depth(2, dumb_move_depth))\n",
    "            print(board.get_score())\n",
    "        else:\n",
    "            board.update_board(1, board.best_move_depth(1, dumb_move_depth))\n",
    "            MCTS_ = MCTS(board, 2, exploration_parameter = exploration_parameter, \n",
    "                         intelligence_parameter = intelligence_parameter)\n",
    "            board.update_board(2, MCTS_.select_move(num_iterations = num_iterations))\n",
    "            print(board.get_score())\n",
    "    \n",
    "    return board.get_score()"
   ]
  },
  {
   "cell_type": "code",
   "execution_count": 3,
   "metadata": {},
   "outputs": [],
   "source": [
    "def test_AI(AI_mover, num_iters, exploration_parameter, intelligence, dumb_depth):\n",
    "    print(\"Called\")\n",
    "    num_games = 100\n",
    "    scores = np.zeros((2, num_games))\n",
    "\n",
    "    start_time = time()\n",
    "    for i in range(num_games):\n",
    "        print(i)\n",
    "        score = test_AI_helper((7,8), AI_mover, num_iters, exploration_parameter, intelligence, dumb_depth)\n",
    "        scores[0, i] = score[0]\n",
    "        scores[1, i] = score[1]                        \n",
    "    \n",
    "    if AI_mover:\n",
    "        print(\"-------------------------------------------------------------------------\")  \n",
    "        print(f\"With the AI going first, {num_iters} number of iterations,\" + \n",
    "              f\" and dumb_move_depth of {dumb_depth}\")\n",
    "        print(f\"The total time was {time() - start_time} seconds.\")\n",
    "        \n",
    "        win_percentage = sum(scores[0, :] > scores[1, :])\n",
    "        loss_percentage = sum(scores[0, :] < scores[1, :])\n",
    "        tie_percentage = sum(scores[0, :] == scores[1, :])\n",
    "        avg_AI_score = np.mean(scores[0,:])\n",
    "        avg_dumb_score = np.mean(scores[1,:])\n",
    "        \n",
    "        print(f\"The AI win percentage was {win_percentage}%, the AI loss percentage was {loss_percentage}%\" +\n",
    "          f\", and the tie percentage was {tie_percentage}%.\")\n",
    "        print(f\"The AI average score was {avg_AI_score} and the dumb average score was {avg_dumb_score}\")\n",
    "    \n",
    "    else:\n",
    "        print(\"-------------------------------------------------------------------------\") \n",
    "        print(f\"With the AI going second, {num_iters} number of iterations,\" + \n",
    "              f\" and dumb_move_depth of {dumb_depth}\")\n",
    "        print(f\"The total time was {time() - start_time} seconds.\")\n",
    "\n",
    "        win_percentage = sum(scores[1, :] > scores[0, :])\n",
    "        loss_percentage = sum(scores[1, :] < scores[0, :])\n",
    "        tie_percentage = sum(scores[1, :] == scores[0, :])\n",
    "        avg_AI_score = np.mean(scores[1,:])\n",
    "        avg_dumb_score = np.mean(scores[0,:])\n",
    "        \n",
    "        print(f\"The AI win percentage was {win_percentage}%, the AI loss percentage was {loss_percentage}%\" +\n",
    "          f\", and the tie percentage was {tie_percentage}%.\")\n",
    "        print(f\"The AI average score was {avg_AI_score} and the dumb average score was {avg_dumb_score}\")"
   ]
  },
  {
   "cell_type": "code",
   "execution_count": null,
   "metadata": {},
   "outputs": [],
   "source": [
    "# Testing a crazy number of Configurations\n",
    "num_iterations = [50, 100, 500, 1000, 2000]\n",
    "move_first = [True, False]\n",
    "Exploration_Paramters = [5]\n",
    "Intelligence_Parameters = [0.5]\n",
    "dumb_move_depth = [1, 3]\n",
    "\n",
    "jobs = []\n",
    "for num_iters in num_iterations:\n",
    "    for AI_mover in move_first:\n",
    "        for exploration_parameter in Exploration_Paramters:\n",
    "            for intelligence in Intelligence_Parameters:\n",
    "                for dumb_depth in dumb_move_depth:\n",
    "                    job = Process(target=test_AI, args=(AI_mover, num_iters, \n",
    "                                                             exploration_parameter, intelligence, dumb_depth))\n",
    "                    jobs.append(job)\n",
    "                    job.start()\n",
    "                    \n",
    "for job in jobs: \n",
    "    job.join()"
   ]
  },
  {
   "cell_type": "markdown",
   "metadata": {},
   "source": [
    "Actually ran this code on a compute cluser with a 32 core CPU"
   ]
  },
  {
   "cell_type": "markdown",
   "metadata": {},
   "source": [
    "# Actual Game Test"
   ]
  },
  {
   "cell_type": "markdown",
   "metadata": {},
   "source": [
    "The following simulated game was played against a human player using a real GamePigeon generated game board and played over iMessage"
   ]
  },
  {
   "cell_type": "code",
   "execution_count": 2,
   "metadata": {},
   "outputs": [],
   "source": [
    "from MCTS import MCTS\n",
    "from Board import Board\n",
    "import numpy as np"
   ]
  },
  {
   "cell_type": "code",
   "execution_count": 7,
   "metadata": {},
   "outputs": [],
   "source": [
    "# Data from an actual iMessage Filler game\n",
    "data = np.array([[3,2,5,4,5,4,3,2],[2,4,0,3,4,3,0,1],[0,3,5,0,5,4,1,0],[1,4,2,4,0,5,4,1],\n",
    "                 [2,1,0,1,2,0,5,2],[1,3,2,4,0,2,4,0],[5,2,4,0,3,4,5,1]])\n",
    "\n",
    "intelligence_parameter = 0.5\n",
    "exploration_parameter = 1\n",
    "num_terations = 1000"
   ]
  },
  {
   "cell_type": "code",
   "execution_count": 8,
   "metadata": {
    "scrolled": true
   },
   "outputs": [
    {
     "data": {
      "image/png": "[encoded data removed]",
      "text/plain": [
       "<Figure size 432x288 with 1 Axes>"
      ]
     },
     "metadata": {
      "needs_background": "light"
     },
     "output_type": "display_data"
    }
   ],
   "source": [
    "test = Board(data=data)\n",
    "test.display_board()"
   ]
  },
  {
   "cell_type": "code",
   "execution_count": 9,
   "metadata": {},
   "outputs": [
    {
     "data": {
      "image/png": "[encoded data removed]",
      "text/plain": [
       "<Figure size 432x288 with 1 Axes>"
      ]
     },
     "metadata": {
      "needs_background": "light"
     },
     "output_type": "display_data"
    }
   ],
   "source": [
    "# Updating player 2 first becuase iMessage has the oppenent always\n",
    "# in the upper right even if they go first\n",
    "test.update_board(2,1)\n",
    "test.display_board()"
   ]
  },
  {
   "cell_type": "markdown",
   "metadata": {},
   "source": [
    "Note: The win percentage and average score in the early game are misleading because the AI is intentially trying a lot of paths that are not good moves. Thus the win percentage and average score for these very bad paths will be very low in the early game but will get better as the game progresses if the AI thinks it's getting a better chance of winning."
   ]
  },
  {
   "cell_type": "code",
   "execution_count": 11,
   "metadata": {},
   "outputs": [
    {
     "name": "stdout",
     "output_type": "stream",
     "text": [
      "red has win percentage 0.2328767123287671 with an average score of 23.89041095890411\n",
      "yellow has win percentage 0.5383390819846113 with an average score of 28.908994428230283\n",
      "blue has win percentage 0.2318840579710145 with an average score of 22.999999999999996\n",
      "purple has win percentage 0.25806451612903225 with an average score of 23.881720430107535\n",
      "Wall time: 7.83 s\n"
     ]
    },
    {
     "data": {
      "image/png": "[encoded data removed]",
      "text/plain": [
       "<Figure size 432x288 with 1 Axes>"
      ]
     },
     "metadata": {
      "needs_background": "light"
     },
     "output_type": "display_data"
    }
   ],
   "source": [
    "%%time\n",
    "tester = MCTS(test, 1, exploration_parameter = exploration_parameter, intelligence_parameter = intelligence_parameter)\n",
    "test.update_board(1, tester.select_move(num_iterations = num_terations, verbose = True))\n",
    "test.display_board()"
   ]
  },
  {
   "cell_type": "code",
   "execution_count": 12,
   "metadata": {},
   "outputs": [
    {
     "data": {
      "image/png": "[encoded data removed]",
      "text/plain": [
       "<Figure size 432x288 with 1 Axes>"
      ]
     },
     "metadata": {
      "needs_background": "light"
     },
     "output_type": "display_data"
    }
   ],
   "source": [
    "test.update_board(2,0)\n",
    "test.display_board()"
   ]
  },
  {
   "cell_type": "code",
   "execution_count": 13,
   "metadata": {},
   "outputs": [
    {
     "name": "stdout",
     "output_type": "stream",
     "text": [
      "green has win percentage 0.30386740331491713 with an average score of 25.26519337016576\n",
      "blue has win percentage 0.5862853428664283 with an average score of 29.374715632109208\n",
      "purple has win percentage 0.38461538461538464 with an average score of 26.57329462989841\n",
      "black has win percentage 0.19298245614035087 with an average score of 22.684210526315788\n",
      "Wall time: 7.98 s\n"
     ]
    },
    {
     "data": {
      "image/png": "[encoded data removed]",
      "text/plain": [
       "<Figure size 432x288 with 1 Axes>"
      ]
     },
     "metadata": {
      "needs_background": "light"
     },
     "output_type": "display_data"
    }
   ],
   "source": [
    "%%time\n",
    "tester = MCTS(test, 1, exploration_parameter = exploration_parameter, intelligence_parameter = intelligence_parameter)\n",
    "test.update_board(1, tester.select_move(num_iterations = num_terations, verbose = True))\n",
    "test.display_board()"
   ]
  },
  {
   "cell_type": "code",
   "execution_count": 14,
   "metadata": {},
   "outputs": [
    {
     "data": {
      "image/png": "[encoded data removed]",
      "text/plain": [
       "<Figure size 432x288 with 1 Axes>"
      ]
     },
     "metadata": {
      "needs_background": "light"
     },
     "output_type": "display_data"
    }
   ],
   "source": [
    "test.update_board(2,1)\n",
    "test.display_board()"
   ]
  },
  {
   "cell_type": "code",
   "execution_count": 15,
   "metadata": {},
   "outputs": [
    {
     "name": "stdout",
     "output_type": "stream",
     "text": [
      "red has win percentage 0.24060150375939848 with an average score of 24.090225563909776\n",
      "yellow has win percentage 0.6270571827057183 with an average score of 29.849372384937126\n",
      "purple has win percentage 0.2485207100591716 with an average score of 24.84615384615384\n",
      "black has win percentage 0.23076923076923078 with an average score of 23.66666666666667\n",
      "Wall time: 8.18 s\n"
     ]
    },
    {
     "data": {
      "image/png": "[encoded data removed]",
      "text/plain": [
       "<Figure size 432x288 with 1 Axes>"
      ]
     },
     "metadata": {
      "needs_background": "light"
     },
     "output_type": "display_data"
    }
   ],
   "source": [
    "%%time\n",
    "tester = MCTS(test, 1, exploration_parameter = exploration_parameter, intelligence_parameter = intelligence_parameter)\n",
    "test.update_board(1, tester.select_move(num_iterations = num_terations, verbose = True))\n",
    "test.display_board()"
   ]
  },
  {
   "cell_type": "code",
   "execution_count": 16,
   "metadata": {},
   "outputs": [
    {
     "data": {
      "image/png": "[encoded data removed]",
      "text/plain": [
       "<Figure size 432x288 with 1 Axes>"
      ]
     },
     "metadata": {
      "needs_background": "light"
     },
     "output_type": "display_data"
    }
   ],
   "source": [
    "test.update_board(2,3)\n",
    "test.display_board()"
   ]
  },
  {
   "cell_type": "code",
   "execution_count": 17,
   "metadata": {},
   "outputs": [
    {
     "name": "stdout",
     "output_type": "stream",
     "text": [
      "red has win percentage 0.26666666666666666 with an average score of 24.911111111111115\n",
      "green has win percentage 0.28888888888888886 with an average score of 24.355555555555554\n",
      "purple has win percentage 0.8225432035078669 with an average score of 32.219241681712695\n",
      "black has win percentage 0.24324324324324326 with an average score of 22.75675675675676\n",
      "Wall time: 7.57 s\n"
     ]
    },
    {
     "data": {
      "image/png": "[encoded data removed]",
      "text/plain": [
       "<Figure size 432x288 with 1 Axes>"
      ]
     },
     "metadata": {
      "needs_background": "light"
     },
     "output_type": "display_data"
    }
   ],
   "source": [
    "%%time\n",
    "tester = MCTS(test, 1, exploration_parameter = exploration_parameter, intelligence_parameter = intelligence_parameter)\n",
    "test.update_board(1, tester.select_move(num_iterations = num_terations, verbose = True))\n",
    "test.display_board()"
   ]
  },
  {
   "cell_type": "code",
   "execution_count": 19,
   "metadata": {},
   "outputs": [
    {
     "data": {
      "image/png": "[encoded data removed]",
      "text/plain": [
       "<Figure size 432x288 with 1 Axes>"
      ]
     },
     "metadata": {
      "needs_background": "light"
     },
     "output_type": "display_data"
    }
   ],
   "source": [
    "test.update_board(2,2)\n",
    "test.display_board()"
   ]
  },
  {
   "cell_type": "code",
   "execution_count": 21,
   "metadata": {},
   "outputs": [
    {
     "name": "stdout",
     "output_type": "stream",
     "text": [
      "red has win percentage 0.9175443103005394 with an average score of 33.21834061135381\n",
      "green has win percentage 0.39622641509433965 with an average score of 27.056603773584904\n",
      "blue has win percentage 0.27586206896551724 with an average score of 24.275862068965516\n",
      "black has win percentage 0.3103448275862069 with an average score of 23.82758620689655\n",
      "Wall time: 6.44 s\n"
     ]
    },
    {
     "data": {
      "image/png": "[encoded data removed]",
      "text/plain": [
       "<Figure size 432x288 with 1 Axes>"
      ]
     },
     "metadata": {
      "needs_background": "light"
     },
     "output_type": "display_data"
    }
   ],
   "source": [
    "%%time\n",
    "tester = MCTS(test, 1, exploration_parameter = exploration_parameter, intelligence_parameter = intelligence_parameter)\n",
    "test.update_board(1, tester.select_move(num_iterations = num_terations, verbose = True))\n",
    "test.display_board()"
   ]
  },
  {
   "cell_type": "code",
   "execution_count": 22,
   "metadata": {},
   "outputs": [
    {
     "data": {
      "image/png": "[encoded data removed]",
      "text/plain": [
       "<Figure size 432x288 with 1 Axes>"
      ]
     },
     "metadata": {
      "needs_background": "light"
     },
     "output_type": "display_data"
    }
   ],
   "source": [
    "test.update_board(2,4)\n",
    "test.display_board()"
   ]
  },
  {
   "cell_type": "code",
   "execution_count": 24,
   "metadata": {},
   "outputs": [
    {
     "name": "stdout",
     "output_type": "stream",
     "text": [
      "green has win percentage 0.3076923076923077 with an average score of 24.230769230769234\n",
      "yellow has win percentage 0.9378944710931583 with an average score of 32.47790961878301\n",
      "blue has win percentage 0.1111111111111111 with an average score of 23.444444444444446\n",
      "black has win percentage 0.42857142857142855 with an average score of 26.809523809523817\n",
      "Wall time: 5.05 s\n"
     ]
    },
    {
     "data": {
      "image/png": "[encoded data removed]",
      "text/plain": [
       "<Figure size 432x288 with 1 Axes>"
      ]
     },
     "metadata": {
      "needs_background": "light"
     },
     "output_type": "display_data"
    }
   ],
   "source": [
    "%%time\n",
    "tester = MCTS(test, 1, exploration_parameter = exploration_parameter, intelligence_parameter = intelligence_parameter)\n",
    "test.update_board(1, tester.select_move(num_iterations = num_terations, verbose = True))\n",
    "test.display_board()"
   ]
  },
  {
   "cell_type": "code",
   "execution_count": 25,
   "metadata": {},
   "outputs": [
    {
     "data": {
      "image/png": "[encoded data removed]",
      "text/plain": [
       "<Figure size 432x288 with 1 Axes>"
      ]
     },
     "metadata": {
      "needs_background": "light"
     },
     "output_type": "display_data"
    }
   ],
   "source": [
    "test.update_board(2,5)\n",
    "test.display_board()"
   ]
  },
  {
   "cell_type": "code",
   "execution_count": 29,
   "metadata": {},
   "outputs": [
    {
     "name": "stdout",
     "output_type": "stream",
     "text": [
      "red has win percentage 0.6097560975609756 with an average score of 28.463414634146346\n",
      "green has win percentage 0.29411764705882354 with an average score of 26.235294117647058\n",
      "blue has win percentage 0.38095238095238093 with an average score of 26.71428571428572\n",
      "purple has win percentage 0.9628025477707006 with an average score of 32.15541401273873\n",
      "Wall time: 3.7 s\n"
     ]
    },
    {
     "data": {
      "image/png": "[encoded data removed]",
      "text/plain": [
       "<Figure size 432x288 with 1 Axes>"
      ]
     },
     "metadata": {
      "needs_background": "light"
     },
     "output_type": "display_data"
    }
   ],
   "source": [
    "%%time\n",
    "tester = MCTS(test, 1, exploration_parameter = exploration_parameter, intelligence_parameter = intelligence_parameter)\n",
    "test.update_board(1, tester.select_move(num_iterations = num_terations, verbose = True))\n",
    "test.display_board()"
   ]
  },
  {
   "cell_type": "code",
   "execution_count": 30,
   "metadata": {},
   "outputs": [
    {
     "data": {
      "image/png": "[encoded data removed]",
      "text/plain": [
       "<Figure size 432x288 with 1 Axes>"
      ]
     },
     "metadata": {
      "needs_background": "light"
     },
     "output_type": "display_data"
    }
   ],
   "source": [
    "test.update_board(2,0)\n",
    "test.display_board()"
   ]
  },
  {
   "cell_type": "code",
   "execution_count": 33,
   "metadata": {},
   "outputs": [
    {
     "name": "stdout",
     "output_type": "stream",
     "text": [
      "green has win percentage 0.1111111111111111 with an average score of 24.111111111111114\n",
      "yellow has win percentage 0.23076923076923078 with an average score of 24.615384615384613\n",
      "blue has win percentage 0.7744360902255639 with an average score of 29.593984962406005\n",
      "black has win percentage 0.9506365289685632 with an average score of 31.590023382697918\n",
      "Wall time: 3.82 s\n"
     ]
    },
    {
     "data": {
      "image/png": "[encoded data removed]",
      "text/plain": [
       "<Figure size 432x288 with 1 Axes>"
      ]
     },
     "metadata": {
      "needs_background": "light"
     },
     "output_type": "display_data"
    }
   ],
   "source": [
    "%%time\n",
    "tester = MCTS(test, 1, exploration_parameter = exploration_parameter, intelligence_parameter = intelligence_parameter)\n",
    "test.update_board(1, tester.select_move(num_iterations = num_terations, verbose = True))\n",
    "test.display_board()"
   ]
  },
  {
   "cell_type": "code",
   "execution_count": 34,
   "metadata": {},
   "outputs": [
    {
     "data": {
      "image/png": "[encoded data removed]",
      "text/plain": [
       "<Figure size 432x288 with 1 Axes>"
      ]
     },
     "metadata": {
      "needs_background": "light"
     },
     "output_type": "display_data"
    }
   ],
   "source": [
    "test.update_board(2,3)\n",
    "test.display_board()"
   ]
  },
  {
   "cell_type": "code",
   "execution_count": 35,
   "metadata": {},
   "outputs": [
    {
     "name": "stdout",
     "output_type": "stream",
     "text": [
      "red has win percentage 0.9791507754894483 with an average score of 31.847698957539933\n",
      "green has win percentage 0.6097560975609756 with an average score of 29.073170731707314\n",
      "yellow has win percentage 0.0 with an average score of 24.111111111111114\n",
      "purple has win percentage 0.42857142857142855 with an average score of 27.190476190476186\n",
      "Wall time: 3.4 s\n"
     ]
    },
    {
     "data": {
      "image/png": "[encoded data removed]",
      "text/plain": [
       "<Figure size 432x288 with 1 Axes>"
      ]
     },
     "metadata": {
      "needs_background": "light"
     },
     "output_type": "display_data"
    }
   ],
   "source": [
    "%%time\n",
    "tester = MCTS(test, 1, exploration_parameter = exploration_parameter, intelligence_parameter = intelligence_parameter)\n",
    "test.update_board(1, tester.select_move(num_iterations = num_terations, verbose = True))\n",
    "test.display_board()"
   ]
  },
  {
   "cell_type": "code",
   "execution_count": 36,
   "metadata": {},
   "outputs": [
    {
     "data": {
      "image/png": "[encoded data removed]",
      "text/plain": [
       "<Figure size 432x288 with 1 Axes>"
      ]
     },
     "metadata": {
      "needs_background": "light"
     },
     "output_type": "display_data"
    }
   ],
   "source": [
    "test.update_board(2,4)\n",
    "test.display_board()"
   ]
  },
  {
   "cell_type": "code",
   "execution_count": 37,
   "metadata": {},
   "outputs": [
    {
     "name": "stdout",
     "output_type": "stream",
     "text": [
      "green has win percentage 0.9052631578947369 with an average score of 30.863157894736858\n",
      "yellow has win percentage 0.9159420289855073 with an average score of 30.956521739130537\n",
      "blue has win percentage 0.9105431309904153 with an average score of 30.72523961661343\n",
      "black has win percentage 0.999673309376021 with an average score of 32.259065664817044\n",
      "Wall time: 3.24 s\n"
     ]
    },
    {
     "data": {
      "image/png": "[encoded data removed]",
      "text/plain": [
       "<Figure size 432x288 with 1 Axes>"
      ]
     },
     "metadata": {
      "needs_background": "light"
     },
     "output_type": "display_data"
    }
   ],
   "source": [
    "%%time\n",
    "tester = MCTS(test, 1, exploration_parameter = exploration_parameter, intelligence_parameter = intelligence_parameter)\n",
    "test.update_board(1, tester.select_move(num_iterations = num_terations, verbose = True))\n",
    "test.display_board()"
   ]
  },
  {
   "cell_type": "code",
   "execution_count": 47,
   "metadata": {},
   "outputs": [
    {
     "data": {
      "text/plain": [
       "0.03876165729560391"
      ]
     },
     "execution_count": 47,
     "metadata": {},
     "output_type": "execute_result"
    }
   ],
   "source": [
    "np.std([0.9052631578947369, 0.9159420289855073, 0.9105431309904153, 0.999673309376021])"
   ]
  },
  {
   "cell_type": "markdown",
   "metadata": {},
   "source": [
    "Notice here that the AI chooses green even though black would clearly be the better choice. It even found that black was a much better choice as seen in the verbose print out. However, we set the AI to choose the simple best greedy move when the win percentage standard deviation is less than 0.05. This is to avoid the situation where the AI is extrememly confident it will win (or lose) and thus there is often no clear best choice since any choice leads to it easily winning. This can lead to the game never ending if the AI never fills in its blocked off territory because it's sure it would win no matter what it does. We set this value of 0.05 for the standard deviation threshold and in this case it looks like the AI could have won by more if it was set lower, allowing it to choose black. However, this is only the case because it was confident it would win no matter what it chose and that was shown by the result of the game. The objective is to win regardless of the score so this does not appear to be an issue here as it clearly knew it was going to win."
   ]
  },
  {
   "cell_type": "code",
   "execution_count": 38,
   "metadata": {},
   "outputs": [
    {
     "data": {
      "image/png": "[encoded data removed]",
      "text/plain": [
       "<Figure size 432x288 with 1 Axes>"
      ]
     },
     "metadata": {
      "needs_background": "light"
     },
     "output_type": "display_data"
    }
   ],
   "source": [
    "test.update_board(2,5)\n",
    "test.display_board()"
   ]
  },
  {
   "cell_type": "code",
   "execution_count": 39,
   "metadata": {},
   "outputs": [
    {
     "name": "stdout",
     "output_type": "stream",
     "text": [
      "red has win percentage 0.9492455418381345 with an average score of 29.640603566529453\n",
      "yellow has win percentage 0.910913140311804 with an average score of 29.944320712694825\n",
      "blue has win percentage 0.6956521739130435 with an average score of 28.913043478260853\n",
      "purple has win percentage 0.9851287631483496 with an average score of 30.484584693507532\n",
      "Wall time: 2.05 s\n"
     ]
    },
    {
     "data": {
      "image/png": "[encoded data removed]",
      "text/plain": [
       "<Figure size 432x288 with 1 Axes>"
      ]
     },
     "metadata": {
      "needs_background": "light"
     },
     "output_type": "display_data"
    }
   ],
   "source": [
    "%%time\n",
    "tester = MCTS(test, 1, exploration_parameter = exploration_parameter, intelligence_parameter = intelligence_parameter)\n",
    "test.update_board(1, tester.select_move(num_iterations = num_terations, verbose = True))\n",
    "test.display_board()"
   ]
  },
  {
   "cell_type": "code",
   "execution_count": 40,
   "metadata": {},
   "outputs": [
    {
     "data": {
      "image/png": "[encoded data removed]",
      "text/plain": [
       "<Figure size 432x288 with 1 Axes>"
      ]
     },
     "metadata": {
      "needs_background": "light"
     },
     "output_type": "display_data"
    }
   ],
   "source": [
    "test.update_board(2,2)\n",
    "test.display_board()"
   ]
  },
  {
   "cell_type": "code",
   "execution_count": 41,
   "metadata": {},
   "outputs": [
    {
     "name": "stdout",
     "output_type": "stream",
     "text": [
      "red has win percentage 0.999340804218853 with an average score of 29.51549110085719\n",
      "green has win percentage 0.9678249678249679 with an average score of 29.57915057915054\n",
      "blue has win percentage 0.9733629300776915 with an average score of 29.73473917869032\n",
      "black has win percentage 0.969097651421508 with an average score of 29.645241038318883\n",
      "Wall time: 2.04 s\n"
     ]
    },
    {
     "data": {
      "image/png": "[encoded data removed]",
      "text/plain": [
       "<Figure size 432x288 with 1 Axes>"
      ]
     },
     "metadata": {
      "needs_background": "light"
     },
     "output_type": "display_data"
    }
   ],
   "source": [
    "%%time\n",
    "tester = MCTS(test, 1, exploration_parameter = exploration_parameter, intelligence_parameter = intelligence_parameter)\n",
    "test.update_board(1, tester.select_move(num_iterations = num_terations, verbose = True))\n",
    "test.display_board()"
   ]
  },
  {
   "cell_type": "code",
   "execution_count": 42,
   "metadata": {},
   "outputs": [
    {
     "data": {
      "image/png": "[encoded data removed]",
      "text/plain": [
       "<Figure size 432x288 with 1 Axes>"
      ]
     },
     "metadata": {
      "needs_background": "light"
     },
     "output_type": "display_data"
    }
   ],
   "source": [
    "test.update_board(2,0)\n",
    "test.display_board()"
   ]
  },
  {
   "cell_type": "code",
   "execution_count": 43,
   "metadata": {},
   "outputs": [
    {
     "name": "stdout",
     "output_type": "stream",
     "text": [
      "green has win percentage 0.9443298969072165 with an average score of 29.50927835051531\n",
      "yellow has win percentage 0.9995240361732508 with an average score of 30.257972394098566\n",
      "purple has win percentage 0.9672578444747613 with an average score of 29.627557980900352\n",
      "black has win percentage 0.964963503649635 with an average score of 29.54890510948904\n",
      "Wall time: 1.8 s\n"
     ]
    },
    {
     "data": {
      "image/png": "[encoded data removed]",
      "text/plain": [
       "<Figure size 432x288 with 1 Axes>"
      ]
     },
     "metadata": {
      "needs_background": "light"
     },
     "output_type": "display_data"
    }
   ],
   "source": [
    "%%time\n",
    "tester = MCTS(test, 1, exploration_parameter = exploration_parameter, intelligence_parameter = intelligence_parameter)\n",
    "test.update_board(1, tester.select_move(num_iterations = num_terations, verbose = True))\n",
    "test.display_board()"
   ]
  },
  {
   "cell_type": "code",
   "execution_count": 44,
   "metadata": {},
   "outputs": [
    {
     "data": {
      "image/png": "[encoded data removed]",
      "text/plain": [
       "<Figure size 432x288 with 1 Axes>"
      ]
     },
     "metadata": {
      "needs_background": "light"
     },
     "output_type": "display_data"
    }
   ],
   "source": [
    "test.update_board(2,3)\n",
    "test.display_board()"
   ]
  },
  {
   "cell_type": "code",
   "execution_count": 45,
   "metadata": {},
   "outputs": [
    {
     "name": "stdout",
     "output_type": "stream",
     "text": [
      "red has win percentage 0.999000999000999 with an average score of 29.9700299700298\n",
      "green has win percentage 0.999000999000999 with an average score of 29.9700299700298\n",
      "purple has win percentage 0.999000999000999 with an average score of 29.9700299700298\n",
      "black has win percentage 0.999000999000999 with an average score of 29.9700299700298\n",
      "Wall time: 1.62 s\n"
     ]
    },
    {
     "data": {
      "image/png": "[encoded data removed]",
      "text/plain": [
       "<Figure size 432x288 with 1 Axes>"
      ]
     },
     "metadata": {
      "needs_background": "light"
     },
     "output_type": "display_data"
    }
   ],
   "source": [
    "%%time\n",
    "tester = MCTS(test, 1, exploration_parameter = exploration_parameter, intelligence_parameter = intelligence_parameter)\n",
    "test.update_board(1, tester.select_move(num_iterations = num_terations, verbose = True))\n",
    "test.display_board()"
   ]
  },
  {
   "cell_type": "code",
   "execution_count": 46,
   "metadata": {
    "scrolled": false
   },
   "outputs": [
    {
     "name": "stdout",
     "output_type": "stream",
     "text": [
      "The final AI score was 30 and the final human player scores was 26\n"
     ]
    }
   ],
   "source": [
    "print(f\"The final AI score was {test.get_score()[0]} and the final human player scores was {test.get_score()[1]}\")"
   ]
  },
  {
   "cell_type": "code",
   "execution_count": null,
   "metadata": {},
   "outputs": [],
   "source": []
  }
 ],
 "metadata": {
  "kernelspec": {
   "display_name": "Python 3",
   "language": "python",
   "name": "python3"
  },
  "language_info": {
   "codemirror_mode": {
    "name": "ipython",
    "version": 3
   },
   "file_extension": ".py",
   "mimetype": "text/x-python",
   "name": "python",
   "nbconvert_exporter": "python",
   "pygments_lexer": "ipython3",
   "version": "3.7.7"
  }
 },
 "nbformat": 4,
 "nbformat_minor": 4
}
