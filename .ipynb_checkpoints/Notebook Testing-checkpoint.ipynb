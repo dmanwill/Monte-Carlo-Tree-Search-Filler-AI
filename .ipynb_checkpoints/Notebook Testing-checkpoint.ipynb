{
 "cells": [
  {
   "cell_type": "markdown",
   "metadata": {},
   "source": [
    "# Important Definitions"
   ]
  },
  {
   "cell_type": "markdown",
   "metadata": {},
   "source": [
    "### Players"
   ]
  },
  {
   "cell_type": "markdown",
   "metadata": {},
   "source": [
    "    Player 1\n",
    "    Player 2"
   ]
  },
  {
   "cell_type": "markdown",
   "metadata": {},
   "source": [
    "### Colors"
   ]
  },
  {
   "cell_type": "markdown",
   "metadata": {},
   "source": [
    "    red = 0\n",
    "    green = 1 \n",
    "    yellow = 2 \n",
    "    blue = 3\n",
    "    purple = 4 \n",
    "    black = 5"
   ]
  },
  {
   "cell_type": "code",
   "execution_count": 55,
   "metadata": {},
   "outputs": [],
   "source": [
    "import numpy as np\n",
    "import matplotlib.pyplot as plt\n",
    "from matplotlib import colors\n",
    "import random\n",
    "\n",
    "class Board:  \n",
    "    # Initialized a random board using np.random.randint and then calls fix_board to make sure there \n",
    "    # are no cells with the same color are already touching to match the filler game.\n",
    "    def __init__(self, size = (7,8)):\n",
    "        self.size = size\n",
    "        self.data = np.random.randint(0, high=6, size=self.size)\n",
    "        self.fix_board()\n",
    "        \n",
    "        self.player_1_color = self.data[self.size[0]-1,0]\n",
    "        self.player_2_color = self.data[0,self.size[1]-1]\n",
    "        \n",
    "        self.player_1_cells_captured = [(self.size[0]-1,0)]\n",
    "        self.player_2_cells_captured = [(0,self.size[1]-1)]\n",
    "        \n",
    "        self.player_1_score = 1\n",
    "        self.player_2_score = 1\n",
    "        \n",
    "        # For displaying the board (Defining: red = 0, green = 1, yellow = 2, blue = 3, purple = 4, black = 5)\n",
    "        self.cmap = colors.ListedColormap(['red', 'green', 'yellow', 'blue', 'purple', 'black'])\n",
    "        self.bounds = [0,1,2,3,4,5,6]\n",
    "        self.norm = colors.BoundaryNorm(self.bounds, self.cmap.N)\n",
    "      \n",
    "    \n",
    "    # Displays the board\n",
    "    def display_board(self):\n",
    "        fig, ax = plt.subplots()\n",
    "        ax.imshow(self.data, cmap=self.cmap, norm=self.norm)\n",
    "     \n",
    "    \n",
    "    # Retuns the current game score. Necessary for evaluating when the game has ended (when the two scores add\n",
    "    # up to the total number of celss for the given board size).\n",
    "    def get_score(self):\n",
    "        return (self.player_1_score, self.player_2_score)\n",
    "    \n",
    "    \n",
    "    # Returns the possible legal moves for the current board state.\n",
    "    # Necessary for MCTC algorithm.\n",
    "    def legal_moves(self):\n",
    "        return np.setdiff1d([0,1,2,3,4,5],[self.player_1_color, self.player_2_color])\n",
    "    \n",
    "    \n",
    "    # For finding which neighbors of a cell are within the bounds of the grid\n",
    "    # Takes in a list of tuples giving the coordinates of the neighbors\n",
    "    def valid_neighbors(self, neighbors):\n",
    "        valid_neighbors = []\n",
    "        for neighbor in neighbors:\n",
    "            if neighbor[0] >= 0 and neighbor[0] < self.size[0] and neighbor[1] >= 0 and neighbor[1] < self.size[1]:\n",
    "                valid_neighbors.append(neighbor)\n",
    "        return valid_neighbors\n",
    "    \n",
    "    \n",
    "    # Takes the random generated board and fixes it so that no no cells with the same color are \n",
    "    # already touching to match the filler game. \n",
    "    def fix_board(self):\n",
    "        # Fixing blobs of colors\n",
    "        for i in range(self.size[0]):\n",
    "            for j in range(self.size[1]):\n",
    "                neighbors = self.valid_neighbors([(i+1,j), (i-1,j), (i,j+1), (i,j-1)])\n",
    "                neighbor_colors = []\n",
    "                for neighbor in neighbors:\n",
    "                    neighbor_colors.append(self.data[neighbor[0], neighbor[1]])\n",
    "                if len(np.intersect1d([self.data[i,j]], neighbor_colors)) > 0:\n",
    "                    self.data[i,j] = random.choice(np.setdiff1d([0,1,2,3,4,5],neighbor_colors))\n",
    "        \n",
    "        # Fixing if starting colors of players are the same\n",
    "        if self.data[self.size[0]-1,0] == self.data[0,self.size[1]-1]:\n",
    "            self.data[0,self.size[1]-1] = random.choice(np.setdiff1d([0,1,2,3,4,5],[self.data[0,self.size[1]-1], \n",
    "                                            self.data[0,self.size[1]-2], self.data[1,self.size[1]-1]]))\n",
    "        \n",
    "        # Fixing to make sure a player can never start the game off with two neighbors of the same color\n",
    "        if self.data[self.size[0]-2,0] == self.data[self.size[0]-1, 1]:\n",
    "            cells_to_avoid = [(self.size[0]-3,0), (self.size[0]-1,0), (self.size[0]-2,1), (self.size[0]-1,1)]\n",
    "            colors_to_avoid = []\n",
    "            for cell in cells_to_avoid:\n",
    "                colors_to_avoid.append(self.data[cell[0], cell[1]])\n",
    "            self.data[self.size[0]-2,0] = random.choice(np.setdiff1d([0,1,2,3,4,5],colors_to_avoid))\n",
    "        if self.data[0, self.size[1]-2] == self.data[1, self.size[1]-1]:\n",
    "            cells_to_avoid = [(0,self.size[1]-3), (0,self.size[1]-1), (1,self.size[1]-2), (1,self.size[1]-1)]\n",
    "            colors_to_avoid = []\n",
    "            for cell in cells_to_avoid:\n",
    "                colors_to_avoid.append(self.data[cell[0], cell[1]])\n",
    "            self.data[0,self.size[1]-2] = random.choice(np.setdiff1d([0,1,2,3,4,5],colors_to_avoid))\n",
    "            \n",
    "             \n",
    "    # Updates the board based on the given player and the color value.\n",
    "    def update_board(self, player_number, color_value):\n",
    "        if player_number == 1:\n",
    "            if color_value == self.player_2_color:\n",
    "                raise Exception(\"Trying to choose the color of the other player\")\n",
    "            new_captures = []\n",
    "            \n",
    "            # Finding all neighboring cells with the given chosen color\n",
    "            for cell in self.player_1_cells_captured:\n",
    "                neighbors = self.valid_neighbors([(cell[0]+1,cell[1]), (cell[0]-1,cell[1]), \n",
    "                                                  (cell[0],cell[1]+1), (cell[0],cell[1]-1)])\n",
    "                for neighbor in neighbors:\n",
    "                    if self.data[neighbor[0],neighbor[1]] == color_value:\n",
    "                        self.data[neighbor[0],neighbor[1]] = color_value\n",
    "                        new_captures.append(neighbor)\n",
    "            \n",
    "            # Updating all current captured territory to have the new chosen color\n",
    "            for cell in self.player_1_cells_captured:\n",
    "                self.data[cell] = color_value\n",
    "            \n",
    "            # Updating metadeta\n",
    "            self.player_1_cells_captured = list(set().union(self.player_1_cells_captured,new_captures)) \n",
    "            self.player_1_score = len(self.player_1_cells_captured)\n",
    "            self.player_1_color = color_value\n",
    "        \n",
    "        elif player_number == 2:\n",
    "            if color_value == self.player_1_color:\n",
    "                raise Exception(\"Trying to choose the color of the other player\")\n",
    "            new_captures = []\n",
    "            \n",
    "            # Finding all neighboring cells with the given chosen color\n",
    "            for cell in self.player_2_cells_captured:\n",
    "                neighbors = self.valid_neighbors([(cell[0]+1,cell[1]), (cell[0]-1,cell[1]), \n",
    "                                                  (cell[0],cell[1]+1), (cell[0],cell[1]-1)])\n",
    "                for neighbor in neighbors:\n",
    "                    if self.data[neighbor[0],neighbor[1]] == color_value:\n",
    "                        self.data[neighbor[0],neighbor[1]] = color_value\n",
    "                        new_captures.append(neighbor)\n",
    "            \n",
    "            # Updating all current captured territory to have the new chosen color\n",
    "            for cell in self.player_2_cells_captured:\n",
    "                self.data[cell] = color_value\n",
    "            \n",
    "            # Updating metadeta\n",
    "            self.player_2_cells_captured = list(set().union(self.player_2_cells_captured,new_captures))\n",
    "            self.player_2_score = len(self.player_2_cells_captured)\n",
    "            self.player_2_color = color_value\n",
    "        \n",
    "        else:\n",
    "               raise Exception(\"Invalid player number\")\n",
    "                \n",
    "    \n",
    "    # Returns the greedy move based on maximizing the number of cells gained in the next turn\n",
    "    # for a given player. Note, it returns the maximum legal move (it can't choose the other \n",
    "    # players current color).\n",
    "    def greedy_move(self, player_number):\n",
    "        territory_neighbors = set()\n",
    "        num_colored_neighbors = np.zeros(6)        \n",
    "        \n",
    "        if player_number == 1:\n",
    "            # Finding all neighbors and adding them to the running total of num_colored_neighbors\n",
    "            for cell in self.player_1_cells_captured:\n",
    "                neighbors = set(self.valid_neighbors([(cell[0]+1,cell[1]), (cell[0]-1,cell[1]), \n",
    "                                                  (cell[0],cell[1]+1), (cell[0],cell[1]-1)])) \n",
    "                territory_neighbors = territory_neighbors.union(neighbors)\n",
    "            territory_neighbors = list(territory_neighbors - set(self.player_1_cells_captured))\n",
    "            for neighbor in territory_neighbors:\n",
    "                num_colored_neighbors[self.data[neighbor]] += 1            \n",
    "            \n",
    "            # Return the top color but checking to make sure we're not chossing the other player's color  \n",
    "            num_colored_neighbors[self.player_2_color] = -1\n",
    "            num_colored_neighbors[self.player_1_color] = -1\n",
    "            return np.argmax(num_colored_neighbors)\n",
    "        \n",
    "        elif player_number == 2:         \n",
    "            # Finding all neighbors and adding them to the running total of num_colored_neighbors\n",
    "            for cell in self.player_2_cells_captured:\n",
    "                neighbors = set(self.valid_neighbors([(cell[0]+1,cell[1]), (cell[0]-1,cell[1]), \n",
    "                                                  (cell[0],cell[1]+1), (cell[0],cell[1]-1)])) \n",
    "                territory_neighbors = territory_neighbors.union(neighbors) \n",
    "            territory_neighbors = list(territory_neighbors - set(self.player_2_cells_captured))\n",
    "            for neighbor in territory_neighbors:\n",
    "                num_colored_neighbors[self.data[neighbor]] += 1       \n",
    "            \n",
    "            # Return the top color but checking to make sure we're not chossing the other player's color  \n",
    "            num_colored_neighbors[self.player_2_color] = -1\n",
    "            num_colored_neighbors[self.player_1_color] = -1\n",
    "            return np.argmax(num_colored_neighbors)      \n",
    "        \n",
    "        else:\n",
    "               raise Exception(\"Invalid player number\")"
   ]
  },
  {
   "cell_type": "markdown",
   "metadata": {},
   "source": [
    "    red = 0\n",
    "    green = 1 \n",
    "    yellow = 2 \n",
    "    blue = 3\n",
    "    purple = 4 \n",
    "    black = 5"
   ]
  },
  {
   "cell_type": "code",
   "execution_count": 82,
   "metadata": {},
   "outputs": [
    {
     "data": {
      "image/png": "[encoded data removed]",
      "text/plain": [
       "<Figure size 432x288 with 1 Axes>"
      ]
     },
     "metadata": {
      "needs_background": "light"
     },
     "output_type": "display_data"
    }
   ],
   "source": [
    "test = Board()\n",
    "test.display_board()"
   ]
  },
  {
   "cell_type": "code",
   "execution_count": 83,
   "metadata": {},
   "outputs": [
    {
     "data": {
      "image/png": "[encoded data removed]",
      "text/plain": [
       "<Figure size 432x288 with 1 Axes>"
      ]
     },
     "metadata": {
      "needs_background": "light"
     },
     "output_type": "display_data"
    }
   ],
   "source": [
    "test.update_board(1,test.greedy_move(1))\n",
    "test.display_board()"
   ]
  },
  {
   "cell_type": "code",
   "execution_count": 84,
   "metadata": {},
   "outputs": [
    {
     "data": {
      "image/png": "[encoded data removed]",
      "text/plain": [
       "<Figure size 432x288 with 1 Axes>"
      ]
     },
     "metadata": {
      "needs_background": "light"
     },
     "output_type": "display_data"
    }
   ],
   "source": [
    "test.update_board(2,test.greedy_move(2))\n",
    "test.display_board()"
   ]
  },
  {
   "cell_type": "code",
   "execution_count": 85,
   "metadata": {},
   "outputs": [
    {
     "data": {
      "image/png": "[encoded data removed]",
      "text/plain": [
       "<Figure size 432x288 with 1 Axes>"
      ]
     },
     "metadata": {
      "needs_background": "light"
     },
     "output_type": "display_data"
    }
   ],
   "source": [
    "test.update_board(1,test.greedy_move(1))\n",
    "test.display_board()"
   ]
  },
  {
   "cell_type": "code",
   "execution_count": 86,
   "metadata": {
    "scrolled": true
   },
   "outputs": [
    {
     "data": {
      "image/png": "[encoded data removed]",
      "text/plain": [
       "<Figure size 432x288 with 1 Axes>"
      ]
     },
     "metadata": {
      "needs_background": "light"
     },
     "output_type": "display_data"
    }
   ],
   "source": [
    "test.update_board(2,test.greedy_move(2))\n",
    "test.display_board()"
   ]
  },
  {
   "cell_type": "code",
   "execution_count": 87,
   "metadata": {},
   "outputs": [
    {
     "data": {
      "image/png": "[encoded data removed]",
      "text/plain": [
       "<Figure size 432x288 with 1 Axes>"
      ]
     },
     "metadata": {
      "needs_background": "light"
     },
     "output_type": "display_data"
    }
   ],
   "source": [
    "test.update_board(1,test.greedy_move(1))\n",
    "test.display_board()"
   ]
  },
  {
   "cell_type": "code",
   "execution_count": 88,
   "metadata": {},
   "outputs": [
    {
     "data": {
      "image/png": "[encoded data removed]",
      "text/plain": [
       "<Figure size 432x288 with 1 Axes>"
      ]
     },
     "metadata": {
      "needs_background": "light"
     },
     "output_type": "display_data"
    }
   ],
   "source": [
    "test.update_board(2,test.greedy_move(2))\n",
    "test.display_board()"
   ]
  },
  {
   "cell_type": "code",
   "execution_count": 89,
   "metadata": {},
   "outputs": [
    {
     "data": {
      "image/png": "[encoded data removed]",
      "text/plain": [
       "<Figure size 432x288 with 1 Axes>"
      ]
     },
     "metadata": {
      "needs_background": "light"
     },
     "output_type": "display_data"
    }
   ],
   "source": [
    "test.update_board(1,test.greedy_move(1))\n",
    "test.display_board()"
   ]
  },
  {
   "cell_type": "code",
   "execution_count": 90,
   "metadata": {},
   "outputs": [
    {
     "data": {
      "image/png": "[encoded data removed]",
      "text/plain": [
       "<Figure size 432x288 with 1 Axes>"
      ]
     },
     "metadata": {
      "needs_background": "light"
     },
     "output_type": "display_data"
    }
   ],
   "source": [
    "test.update_board(2,test.greedy_move(2))\n",
    "test.display_board()"
   ]
  },
  {
   "cell_type": "code",
   "execution_count": 91,
   "metadata": {},
   "outputs": [
    {
     "data": {
      "image/png": "[encoded data removed]",
      "text/plain": [
       "<Figure size 432x288 with 1 Axes>"
      ]
     },
     "metadata": {
      "needs_background": "light"
     },
     "output_type": "display_data"
    }
   ],
   "source": [
    "test.update_board(1,test.greedy_move(1))\n",
    "test.display_board()"
   ]
  },
  {
   "cell_type": "code",
   "execution_count": 92,
   "metadata": {},
   "outputs": [
    {
     "data": {
      "image/png": "[encoded data removed]",
      "text/plain": [
       "<Figure size 432x288 with 1 Axes>"
      ]
     },
     "metadata": {
      "needs_background": "light"
     },
     "output_type": "display_data"
    }
   ],
   "source": [
    "test.update_board(2,test.greedy_move(2))\n",
    "test.display_board()"
   ]
  },
  {
   "cell_type": "code",
   "execution_count": 93,
   "metadata": {},
   "outputs": [
    {
     "data": {
      "image/png": "[encoded data removed]",
      "text/plain": [
       "<Figure size 432x288 with 1 Axes>"
      ]
     },
     "metadata": {
      "needs_background": "light"
     },
     "output_type": "display_data"
    }
   ],
   "source": [
    "test.update_board(1,test.greedy_move(1))\n",
    "test.display_board()"
   ]
  },
  {
   "cell_type": "code",
   "execution_count": 94,
   "metadata": {},
   "outputs": [
    {
     "data": {
      "image/png": "[encoded data removed]",
      "text/plain": [
       "<Figure size 432x288 with 1 Axes>"
      ]
     },
     "metadata": {
      "needs_background": "light"
     },
     "output_type": "display_data"
    }
   ],
   "source": [
    "test.update_board(2,test.greedy_move(2))\n",
    "test.display_board()"
   ]
  },
  {
   "cell_type": "code",
   "execution_count": 95,
   "metadata": {},
   "outputs": [
    {
     "data": {
      "image/png": "[encoded data removed]",
      "text/plain": [
       "<Figure size 432x288 with 1 Axes>"
      ]
     },
     "metadata": {
      "needs_background": "light"
     },
     "output_type": "display_data"
    }
   ],
   "source": [
    "test.update_board(1,test.greedy_move(1))\n",
    "test.display_board()"
   ]
  },
  {
   "cell_type": "code",
   "execution_count": 96,
   "metadata": {},
   "outputs": [
    {
     "data": {
      "image/png": "[encoded data removed]",
      "text/plain": [
       "<Figure size 432x288 with 1 Axes>"
      ]
     },
     "metadata": {
      "needs_background": "light"
     },
     "output_type": "display_data"
    }
   ],
   "source": [
    "test.update_board(2,test.greedy_move(2))\n",
    "test.display_board()"
   ]
  },
  {
   "cell_type": "code",
   "execution_count": 97,
   "metadata": {},
   "outputs": [
    {
     "data": {
      "image/png": "[encoded data removed]",
      "text/plain": [
       "<Figure size 432x288 with 1 Axes>"
      ]
     },
     "metadata": {
      "needs_background": "light"
     },
     "output_type": "display_data"
    }
   ],
   "source": [
    "test.update_board(1,test.greedy_move(1))\n",
    "test.display_board()"
   ]
  },
  {
   "cell_type": "code",
   "execution_count": 98,
   "metadata": {},
   "outputs": [
    {
     "data": {
      "image/png": "[encoded data removed]",
      "text/plain": [
       "<Figure size 432x288 with 1 Axes>"
      ]
     },
     "metadata": {
      "needs_background": "light"
     },
     "output_type": "display_data"
    }
   ],
   "source": [
    "test.update_board(2,test.greedy_move(2))\n",
    "test.display_board()"
   ]
  },
  {
   "cell_type": "code",
   "execution_count": 99,
   "metadata": {},
   "outputs": [
    {
     "data": {
      "image/png": "[encoded data removed]",
      "text/plain": [
       "<Figure size 432x288 with 1 Axes>"
      ]
     },
     "metadata": {
      "needs_background": "light"
     },
     "output_type": "display_data"
    }
   ],
   "source": [
    "test.update_board(1,test.greedy_move(1))\n",
    "test.display_board()"
   ]
  },
  {
   "cell_type": "code",
   "execution_count": 100,
   "metadata": {},
   "outputs": [
    {
     "data": {
      "image/png": "[encoded data removed]",
      "text/plain": [
       "<Figure size 432x288 with 1 Axes>"
      ]
     },
     "metadata": {
      "needs_background": "light"
     },
     "output_type": "display_data"
    }
   ],
   "source": [
    "test.update_board(2,test.greedy_move(2))\n",
    "test.display_board()"
   ]
  },
  {
   "cell_type": "code",
   "execution_count": 101,
   "metadata": {},
   "outputs": [
    {
     "data": {
      "image/png": "[encoded data removed]",
      "text/plain": [
       "<Figure size 432x288 with 1 Axes>"
      ]
     },
     "metadata": {
      "needs_background": "light"
     },
     "output_type": "display_data"
    }
   ],
   "source": [
    "test.update_board(1,test.greedy_move(1))\n",
    "test.display_board()"
   ]
  },
  {
   "cell_type": "code",
   "execution_count": 102,
   "metadata": {},
   "outputs": [
    {
     "data": {
      "image/png": "[encoded data removed]",
      "text/plain": [
       "<Figure size 432x288 with 1 Axes>"
      ]
     },
     "metadata": {
      "needs_background": "light"
     },
     "output_type": "display_data"
    }
   ],
   "source": [
    "test.update_board(2,test.greedy_move(2))\n",
    "test.display_board()"
   ]
  },
  {
   "cell_type": "code",
   "execution_count": 103,
   "metadata": {},
   "outputs": [
    {
     "data": {
      "image/png": "[encoded data removed]",
      "text/plain": [
       "<Figure size 432x288 with 1 Axes>"
      ]
     },
     "metadata": {
      "needs_background": "light"
     },
     "output_type": "display_data"
    }
   ],
   "source": [
    "test.update_board(1,test.greedy_move(1))\n",
    "test.display_board()"
   ]
  },
  {
   "cell_type": "code",
   "execution_count": 104,
   "metadata": {},
   "outputs": [
    {
     "data": {
      "image/png": "[encoded data removed]",
      "text/plain": [
       "<Figure size 432x288 with 1 Axes>"
      ]
     },
     "metadata": {
      "needs_background": "light"
     },
     "output_type": "display_data"
    }
   ],
   "source": [
    "test.update_board(2,test.greedy_move(2))\n",
    "test.display_board()"
   ]
  },
  {
   "cell_type": "code",
   "execution_count": 105,
   "metadata": {},
   "outputs": [
    {
     "data": {
      "image/png": "[encoded data removed]",
      "text/plain": [
       "<Figure size 432x288 with 1 Axes>"
      ]
     },
     "metadata": {
      "needs_background": "light"
     },
     "output_type": "display_data"
    }
   ],
   "source": [
    "test.update_board(1,test.greedy_move(1))\n",
    "test.display_board()"
   ]
  },
  {
   "cell_type": "code",
   "execution_count": 106,
   "metadata": {},
   "outputs": [
    {
     "data": {
      "image/png": "[encoded data removed]",
      "text/plain": [
       "<Figure size 432x288 with 1 Axes>"
      ]
     },
     "metadata": {
      "needs_background": "light"
     },
     "output_type": "display_data"
    }
   ],
   "source": [
    "test.update_board(2,test.greedy_move(2))\n",
    "test.display_board()"
   ]
  },
  {
   "cell_type": "code",
   "execution_count": 107,
   "metadata": {},
   "outputs": [
    {
     "data": {
      "image/png": "[encoded data removed]",
      "text/plain": [
       "<Figure size 432x288 with 1 Axes>"
      ]
     },
     "metadata": {
      "needs_background": "light"
     },
     "output_type": "display_data"
    }
   ],
   "source": [
    "test.update_board(1,test.greedy_move(1))\n",
    "test.display_board()"
   ]
  },
  {
   "cell_type": "code",
   "execution_count": 108,
   "metadata": {},
   "outputs": [
    {
     "data": {
      "image/png": "[encoded data removed]",
      "text/plain": [
       "<Figure size 432x288 with 1 Axes>"
      ]
     },
     "metadata": {
      "needs_background": "light"
     },
     "output_type": "display_data"
    }
   ],
   "source": [
    "test.update_board(2,test.greedy_move(2))\n",
    "test.display_board()"
   ]
  },
  {
   "cell_type": "code",
   "execution_count": 109,
   "metadata": {},
   "outputs": [
    {
     "data": {
      "image/png": "[encoded data removed]",
      "text/plain": [
       "<Figure size 432x288 with 1 Axes>"
      ]
     },
     "metadata": {
      "needs_background": "light"
     },
     "output_type": "display_data"
    }
   ],
   "source": [
    "test.update_board(1,test.greedy_move(1))\n",
    "test.display_board()"
   ]
  },
  {
   "cell_type": "code",
   "execution_count": 112,
   "metadata": {},
   "outputs": [
    {
     "data": {
      "text/plain": [
       "56"
      ]
     },
     "execution_count": 112,
     "metadata": {},
     "output_type": "execute_result"
    }
   ],
   "source": [
    "sum(test.get_score())"
   ]
  },
  {
   "cell_type": "code",
   "execution_count": 183,
   "metadata": {},
   "outputs": [
    {
     "name": "stdout",
     "output_type": "stream",
     "text": [
      "Score was (48, 51)\n",
      "Score was (57, 42)\n"
     ]
    },
    {
     "data": {
      "image/png": "[encoded data removed]",
      "text/plain": [
       "<Figure size 432x288 with 1 Axes>"
      ]
     },
     "metadata": {
      "needs_background": "light"
     },
     "output_type": "display_data"
    },
    {
     "data": {
      "image/png": "[encoded data removed]",
      "text/plain": [
       "<Figure size 432x288 with 1 Axes>"
      ]
     },
     "metadata": {
      "needs_background": "light"
     },
     "output_type": "display_data"
    }
   ],
   "source": [
    "for i in range(2):\n",
    "    board = Board(size = (9,11))\n",
    "    while sum(board.get_score()) < (9*11):\n",
    "        board.update_board(1,board.greedy_move(1))\n",
    "        board.update_board(2,board.greedy_move(2))\n",
    "    board.display_board()\n",
    "    print(f\"Score was {board.get_score()}\")"
   ]
  },
  {
   "cell_type": "code",
   "execution_count": 181,
   "metadata": {},
   "outputs": [
    {
     "name": "stdout",
     "output_type": "stream",
     "text": [
      "The percentage of Player 1 wins was 0.41027000000000036\n",
      "The percentage of Player 2 wins was 0.3984699999999995\n",
      "The percentage of ties was 0.19125999999999932\n"
     ]
    }
   ],
   "source": [
    "percentage_player1_wins = 0\n",
    "percentage_player2_wins = 0\n",
    "percentage_ties = 0\n",
    "for i in range(1000):\n",
    "    num_player1_wins = 0\n",
    "    num_player2_wins = 0\n",
    "    num_ties = 0\n",
    "    for i in range(100):\n",
    "        board = Board()\n",
    "        while sum(board.get_score()) < 20:\n",
    "            board.update_board(1,board.greedy_move(1))\n",
    "            board.update_board(2,board.greedy_move(2))\n",
    "        if board.get_score()[0] > board.get_score()[1]:\n",
    "            num_player1_wins += 1    \n",
    "        elif board.get_score()[0] < board.get_score()[1]:\n",
    "            num_player2_wins += 1\n",
    "        else:\n",
    "            num_ties += 1\n",
    "    percentage_player1_wins += num_player1_wins / 100\n",
    "    percentage_player2_wins += num_player2_wins / 100\n",
    "    percentage_ties += num_ties/ 100\n",
    "        \n",
    "#print(f\"The number of Player 1 wins was {num_player1_wins}\")\n",
    "#print(f\"The number of Player 2 wins was {num_player2_wins}\")\n",
    "#print(f\"The number of ties was {num_ties}\")\n",
    "\n",
    "print(f\"The percentage of Player 1 wins was {percentage_player1_wins/1000}\")\n",
    "print(f\"The percentage of Player 2 wins was {percentage_player2_wins/1000}\")\n",
    "print(f\"The percentage of ties was {percentage_ties/1000}\")"
   ]
  },
  {
   "cell_type": "code",
   "execution_count": null,
   "metadata": {},
   "outputs": [],
   "source": []
  }
 ],
 "metadata": {
  "kernelspec": {
   "display_name": "Python 3",
   "language": "python",
   "name": "python3"
  },
  "language_info": {
   "codemirror_mode": {
    "name": "ipython",
    "version": 3
   },
   "file_extension": ".py",
   "mimetype": "text/x-python",
   "name": "python",
   "nbconvert_exporter": "python",
   "pygments_lexer": "ipython3",
   "version": "3.7.7"
  }
 },
 "nbformat": 4,
 "nbformat_minor": 4
}
